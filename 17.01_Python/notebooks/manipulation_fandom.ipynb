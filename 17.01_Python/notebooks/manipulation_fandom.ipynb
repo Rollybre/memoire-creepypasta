{
 "cells": [
  {
   "cell_type": "code",
   "execution_count": 12,
   "metadata": {},
   "outputs": [],
   "source": [
    "import pandas as pd\n",
    "import numpy as np\n",
    "import re\n",
    "from tqdm import tqdm\n",
    "from bs4 import BeautifulSoup\n",
    "import seaborn as sns\n",
    "import matplotlib.pyplot as plt\n",
    "import nltk\n",
    "from nltk.corpus import stopwords \n",
    "#from spacy.lang.en.stop_words import STOP_WORDS as en_stop\n",
    "from sklearn.feature_extraction.text import CountVectorizer #tfidf fonctionn aussi\n",
    "from bertopic import BERTopic\n",
    "from sentence_transformers import SentenceTransformer\n"
   ]
  },
  {
   "cell_type": "code",
   "execution_count": null,
   "metadata": {},
   "outputs": [],
   "source": []
  },
  {
   "cell_type": "code",
   "execution_count": 25,
   "metadata": {},
   "outputs": [],
   "source": [
    "df_liens_fandom=pd.read_csv('../17.02_CSV.CSV/fandom_liens_date.csv')\n",
    "df_fandom=pd.read_csv('../17.02_CSV.CSV/cp_fandom_scrapped.csv')"
   ]
  },
  {
   "cell_type": "code",
   "execution_count": 26,
   "metadata": {},
   "outputs": [
    {
     "data": {
      "text/html": [
       "<div>\n",
       "<style scoped>\n",
       "    .dataframe tbody tr th:only-of-type {\n",
       "        vertical-align: middle;\n",
       "    }\n",
       "\n",
       "    .dataframe tbody tr th {\n",
       "        vertical-align: top;\n",
       "    }\n",
       "\n",
       "    .dataframe thead th {\n",
       "        text-align: right;\n",
       "    }\n",
       "</style>\n",
       "<table border=\"1\" class=\"dataframe\">\n",
       "  <thead>\n",
       "    <tr style=\"text-align: right;\">\n",
       "      <th></th>\n",
       "      <th>Auteur</th>\n",
       "      <th>Texte</th>\n",
       "      <th>Category</th>\n",
       "      <th>Lien</th>\n",
       "      <th>Unnamed: 0</th>\n",
       "      <th>Links</th>\n",
       "      <th>date</th>\n",
       "    </tr>\n",
       "  </thead>\n",
       "  <tbody>\n",
       "    <tr>\n",
       "      <th>0</th>\n",
       "      <td>[]</td>\n",
       "      <td>So long as the oceans are the ligaments which ...</td>\n",
       "      <td>['[[Category:Historical Archive/PD]]']</td>\n",
       "      <td>https://creepypasta.fandom.com/wiki/%22De_Prof...</td>\n",
       "      <td>0</td>\n",
       "      <td>https://creepypasta.fandom.com/wiki/%22De_Prof...</td>\n",
       "      <td>30 September 2015</td>\n",
       "    </tr>\n",
       "    <tr>\n",
       "      <th>1</th>\n",
       "      <td>[]</td>\n",
       "      <td>Though “Geraldine” Atkins was considered by ma...</td>\n",
       "      <td>['[[Category:Dismemberment]]', '[[Category:Men...</td>\n",
       "      <td>https://creepypasta.fandom.com/wiki/%22Geraldi...</td>\n",
       "      <td>1</td>\n",
       "      <td>https://creepypasta.fandom.com/wiki/%22Geraldi...</td>\n",
       "      <td>11 January 2017</td>\n",
       "    </tr>\n",
       "    <tr>\n",
       "      <th>2</th>\n",
       "      <td>[]</td>\n",
       "      <td>We are trapped within the darkest holes of our...</td>\n",
       "      <td>['[[Category:Mental Illness]]', '[[Category:Mo...</td>\n",
       "      <td>https://creepypasta.fandom.com/wiki/%22Hate%22...</td>\n",
       "      <td>2</td>\n",
       "      <td>https://creepypasta.fandom.com/wiki/%22Hate%22</td>\n",
       "      <td>28 May 2013</td>\n",
       "    </tr>\n",
       "    <tr>\n",
       "      <th>3</th>\n",
       "      <td>[]</td>\n",
       "      <td>Rica hated lack of hygiene.\\n\\nRica absolutely...</td>\n",
       "      <td>['[[Category:Ghosts]]']</td>\n",
       "      <td>https://creepypasta.fandom.com/wiki/%22I_Never...</td>\n",
       "      <td>3</td>\n",
       "      <td>https://creepypasta.fandom.com/wiki/%22I_Never...</td>\n",
       "      <td>13 November 2019</td>\n",
       "    </tr>\n",
       "    <tr>\n",
       "      <th>4</th>\n",
       "      <td>[]</td>\n",
       "      <td>&lt;gallery&gt;\\nFile:In the Broad Sense Written by ...</td>\n",
       "      <td>['[[Category:Nature]]', '[[Category:Reality]]'...</td>\n",
       "      <td>https://creepypasta.fandom.com/wiki/%22In_the_...</td>\n",
       "      <td>4</td>\n",
       "      <td>https://creepypasta.fandom.com/wiki/%22In_the_...</td>\n",
       "      <td>7 October 2015</td>\n",
       "    </tr>\n",
       "    <tr>\n",
       "      <th>...</th>\n",
       "      <td>...</td>\n",
       "      <td>...</td>\n",
       "      <td>...</td>\n",
       "      <td>...</td>\n",
       "      <td>...</td>\n",
       "      <td>...</td>\n",
       "      <td>...</td>\n",
       "    </tr>\n",
       "    <tr>\n",
       "      <th>13123</th>\n",
       "      <td>[]</td>\n",
       "      <td>[[File:Sombra siniestra.jpg|thumb|La Figura.]]...</td>\n",
       "      <td>['[[Category:AltLang]]', '[[Category:NSFW]]', ...</td>\n",
       "      <td>https://creepypasta.fandom.com/wiki/%C2%BFEso_...</td>\n",
       "      <td>13123</td>\n",
       "      <td>https://creepypasta.fandom.com/wiki/%C2%BFEso_...</td>\n",
       "      <td>8 March 2013</td>\n",
       "    </tr>\n",
       "    <tr>\n",
       "      <th>13124</th>\n",
       "      <td>[]</td>\n",
       "      <td>Leena Kujan led her men through the forest of ...</td>\n",
       "      <td>['[[Category:Monsters]]']</td>\n",
       "      <td>https://creepypasta.fandom.com/wiki/%CE%95%CE%...</td>\n",
       "      <td>13124</td>\n",
       "      <td>https://creepypasta.fandom.com/wiki/%CE%95%CE%...</td>\n",
       "      <td>12 May 2016</td>\n",
       "    </tr>\n",
       "    <tr>\n",
       "      <th>13125</th>\n",
       "      <td>[]</td>\n",
       "      <td>[[File:Underwater ruins.jpg|thumb|290px]]\\n&lt;po...</td>\n",
       "      <td>['[[Category:AltLang]]', '[[Category:Poetry]]'...</td>\n",
       "      <td>https://creepypasta.fandom.com/wiki/%CE%A4%CE%...</td>\n",
       "      <td>13125</td>\n",
       "      <td>https://creepypasta.fandom.com/wiki/%CE%A4%CE%...</td>\n",
       "      <td>16 May 2012</td>\n",
       "    </tr>\n",
       "    <tr>\n",
       "      <th>13126</th>\n",
       "      <td>[]</td>\n",
       "      <td>Why do people go insane?\\n\\nMaybe one day we'l...</td>\n",
       "      <td>['[[Category:Mental Illness]]']</td>\n",
       "      <td>https://creepypasta.fandom.com/wiki/%E8%8B%A6%...</td>\n",
       "      <td>13126</td>\n",
       "      <td>https://creepypasta.fandom.com/wiki/%E8%8B%A6%...</td>\n",
       "      <td>2 April 2013</td>\n",
       "    </tr>\n",
       "    <tr>\n",
       "      <th>13127</th>\n",
       "      <td>[]</td>\n",
       "      <td>{{AN|This is my entry for [[User:Cornconic|Cor...</td>\n",
       "      <td>['[[Category:Liminal Spaces 2022]]', '[[Catego...</td>\n",
       "      <td>https://creepypasta.fandom.com/wiki/%E9%AC%BC%...</td>\n",
       "      <td>13127</td>\n",
       "      <td>https://creepypasta.fandom.com/wiki/%E9%AC%BC%...</td>\n",
       "      <td>4 September 2022</td>\n",
       "    </tr>\n",
       "  </tbody>\n",
       "</table>\n",
       "<p>13128 rows × 7 columns</p>\n",
       "</div>"
      ],
      "text/plain": [
       "      Auteur                                              Texte  \\\n",
       "0         []  So long as the oceans are the ligaments which ...   \n",
       "1         []  Though “Geraldine” Atkins was considered by ma...   \n",
       "2         []  We are trapped within the darkest holes of our...   \n",
       "3         []  Rica hated lack of hygiene.\\n\\nRica absolutely...   \n",
       "4         []  <gallery>\\nFile:In the Broad Sense Written by ...   \n",
       "...      ...                                                ...   \n",
       "13123     []  [[File:Sombra siniestra.jpg|thumb|La Figura.]]...   \n",
       "13124     []  Leena Kujan led her men through the forest of ...   \n",
       "13125     []  [[File:Underwater ruins.jpg|thumb|290px]]\\n<po...   \n",
       "13126     []  Why do people go insane?\\n\\nMaybe one day we'l...   \n",
       "13127     []  {{AN|This is my entry for [[User:Cornconic|Cor...   \n",
       "\n",
       "                                                Category  \\\n",
       "0                 ['[[Category:Historical Archive/PD]]']   \n",
       "1      ['[[Category:Dismemberment]]', '[[Category:Men...   \n",
       "2      ['[[Category:Mental Illness]]', '[[Category:Mo...   \n",
       "3                                ['[[Category:Ghosts]]']   \n",
       "4      ['[[Category:Nature]]', '[[Category:Reality]]'...   \n",
       "...                                                  ...   \n",
       "13123  ['[[Category:AltLang]]', '[[Category:NSFW]]', ...   \n",
       "13124                          ['[[Category:Monsters]]']   \n",
       "13125  ['[[Category:AltLang]]', '[[Category:Poetry]]'...   \n",
       "13126                    ['[[Category:Mental Illness]]']   \n",
       "13127  ['[[Category:Liminal Spaces 2022]]', '[[Catego...   \n",
       "\n",
       "                                                    Lien  Unnamed: 0  \\\n",
       "0      https://creepypasta.fandom.com/wiki/%22De_Prof...           0   \n",
       "1      https://creepypasta.fandom.com/wiki/%22Geraldi...           1   \n",
       "2      https://creepypasta.fandom.com/wiki/%22Hate%22...           2   \n",
       "3      https://creepypasta.fandom.com/wiki/%22I_Never...           3   \n",
       "4      https://creepypasta.fandom.com/wiki/%22In_the_...           4   \n",
       "...                                                  ...         ...   \n",
       "13123  https://creepypasta.fandom.com/wiki/%C2%BFEso_...       13123   \n",
       "13124  https://creepypasta.fandom.com/wiki/%CE%95%CE%...       13124   \n",
       "13125  https://creepypasta.fandom.com/wiki/%CE%A4%CE%...       13125   \n",
       "13126  https://creepypasta.fandom.com/wiki/%E8%8B%A6%...       13126   \n",
       "13127  https://creepypasta.fandom.com/wiki/%E9%AC%BC%...       13127   \n",
       "\n",
       "                                                   Links               date  \n",
       "0      https://creepypasta.fandom.com/wiki/%22De_Prof...  30 September 2015  \n",
       "1      https://creepypasta.fandom.com/wiki/%22Geraldi...    11 January 2017  \n",
       "2         https://creepypasta.fandom.com/wiki/%22Hate%22        28 May 2013  \n",
       "3      https://creepypasta.fandom.com/wiki/%22I_Never...   13 November 2019  \n",
       "4      https://creepypasta.fandom.com/wiki/%22In_the_...     7 October 2015  \n",
       "...                                                  ...                ...  \n",
       "13123  https://creepypasta.fandom.com/wiki/%C2%BFEso_...       8 March 2013  \n",
       "13124  https://creepypasta.fandom.com/wiki/%CE%95%CE%...        12 May 2016  \n",
       "13125  https://creepypasta.fandom.com/wiki/%CE%A4%CE%...        16 May 2012  \n",
       "13126  https://creepypasta.fandom.com/wiki/%E8%8B%A6%...       2 April 2013  \n",
       "13127  https://creepypasta.fandom.com/wiki/%E9%AC%BC%...   4 September 2022  \n",
       "\n",
       "[13128 rows x 7 columns]"
      ]
     },
     "execution_count": 26,
     "metadata": {},
     "output_type": "execute_result"
    }
   ],
   "source": [
    "df_fandom_complete=df_fandom.join(df_liens_fandom)\n",
    "df_fandom_complete"
   ]
  },
  {
   "cell_type": "code",
   "execution_count": 27,
   "metadata": {},
   "outputs": [],
   "source": [
    "df_fandom_complete=df_fandom_complete.drop(columns='Unnamed: 0')\n",
    "df_fandom_complete=df_fandom_complete.drop(columns='Links')"
   ]
  },
  {
   "cell_type": "code",
   "execution_count": 28,
   "metadata": {},
   "outputs": [],
   "source": [
    "df_fandom_complete['Category'] = df_fandom_complete['Category'].apply(lambda x: re.findall(r'\\[\\[Category\\:(.*?)\\]\\]', x))"
   ]
  },
  {
   "cell_type": "code",
   "execution_count": 33,
   "metadata": {},
   "outputs": [],
   "source": [
    "df_fandom_complete[\"taille_texte\"]=df_fandom_complete['Texte'].str.len()"
   ]
  },
  {
   "cell_type": "code",
   "execution_count": 46,
   "metadata": {},
   "outputs": [],
   "source": [
    "def longueur_phrase_moyenne_mot(txt:str) : \n",
    "    #On découpe en phrase, puis on compte les mots\n",
    "    liste_phrase=txt.split('.')\n",
    "\n",
    "    taille_phrases=[len(phrase.split(' ')) for phrase in liste_phrase]\n",
    "    \n",
    "    return np.mean(taille_phrases) \n",
    "\n",
    "\n",
    "def taille_texte_mot(txt:str):\n",
    "    return len(txt.split(' '))"
   ]
  },
  {
   "cell_type": "code",
   "execution_count": 58,
   "metadata": {},
   "outputs": [
    {
     "name": "stdout",
     "output_type": "stream",
     "text": [
      "yay\n",
      "yay\n",
      "yay\n",
      "yay\n",
      "yay\n",
      "yay\n",
      "yay\n",
      "yay\n",
      "yay\n",
      "yay\n",
      "yay\n",
      "yay\n",
      "yay\n",
      "yay\n",
      "yay\n",
      "yay\n",
      "yay\n",
      "yay\n",
      "yay\n",
      "yay\n",
      "yay\n",
      "yay\n",
      "yay\n",
      "yay\n",
      "yay\n",
      "yay\n",
      "yay\n",
      "yay\n",
      "yay\n",
      "yay\n",
      "yay\n",
      "yay\n",
      "yay\n",
      "yay\n",
      "yay\n",
      "yay\n",
      "yay\n",
      "yay\n",
      "yay\n",
      "yay\n",
      "yay\n",
      "yay\n",
      "yay\n",
      "yay\n",
      "yay\n",
      "yay\n",
      "yay\n",
      "yay\n",
      "yay\n",
      "yay\n",
      "yay\n",
      "yay\n",
      "yay\n",
      "yay\n",
      "yay\n",
      "yay\n",
      "yay\n",
      "yay\n",
      "yay\n",
      "yay\n",
      "yay\n",
      "yay\n",
      "yay\n",
      "yay\n",
      "yay\n",
      "yay\n",
      "yay\n",
      "yay\n",
      "yay\n",
      "yay\n",
      "yay\n",
      "yay\n",
      "yay\n",
      "yay\n",
      "yay\n",
      "yay\n",
      "yay\n",
      "yay\n",
      "yay\n",
      "yay\n",
      "yay\n",
      "yay\n",
      "yay\n",
      "yay\n",
      "yay\n",
      "yay\n",
      "yay\n",
      "yay\n",
      "yay\n",
      "yay\n",
      "yay\n",
      "yay\n",
      "yay\n",
      "yay\n",
      "yay\n",
      "yay\n",
      "yay\n",
      "yay\n",
      "yay\n",
      "yay\n",
      "yay\n",
      "yay\n",
      "yay\n",
      "yay\n",
      "yay\n",
      "yay\n",
      "yay\n",
      "yay\n",
      "yay\n",
      "yay\n",
      "yay\n",
      "yay\n",
      "yay\n",
      "yay\n",
      "yay\n",
      "yay\n",
      "yay\n",
      "yay\n",
      "yay\n",
      "yay\n",
      "yay\n",
      "yay\n",
      "yay\n",
      "yay\n",
      "yay\n",
      "yay\n",
      "yay\n",
      "yay\n",
      "yay\n",
      "yay\n",
      "yay\n",
      "yay\n",
      "yay\n",
      "yay\n",
      "yay\n",
      "yay\n",
      "yay\n",
      "yay\n",
      "yay\n",
      "yay\n",
      "yay\n",
      "yay\n",
      "yay\n",
      "yay\n",
      "yay\n",
      "yay\n",
      "yay\n",
      "yay\n",
      "yay\n",
      "yay\n",
      "yay\n",
      "yay\n",
      "yay\n",
      "yay\n",
      "yay\n",
      "yay\n",
      "yay\n",
      "yay\n",
      "yay\n",
      "yay\n",
      "yay\n",
      "yay\n",
      "yay\n",
      "yay\n",
      "yay\n",
      "yay\n",
      "yay\n",
      "yay\n",
      "yay\n",
      "yay\n",
      "yay\n",
      "yay\n",
      "yay\n",
      "yay\n",
      "yay\n",
      "yay\n",
      "yay\n",
      "yay\n",
      "yay\n",
      "yay\n",
      "yay\n",
      "yay\n",
      "yay\n",
      "yay\n",
      "yay\n",
      "yay\n",
      "yay\n",
      "yay\n",
      "yay\n",
      "yay\n",
      "yay\n",
      "yay\n",
      "yay\n",
      "yay\n",
      "yay\n",
      "yay\n",
      "yay\n",
      "yay\n",
      "yay\n",
      "yay\n",
      "yay\n",
      "yay\n",
      "yay\n",
      "yay\n",
      "yay\n",
      "yay\n",
      "yay\n",
      "yay\n",
      "yay\n",
      "yay\n",
      "yay\n",
      "yay\n",
      "yay\n",
      "yay\n",
      "yay\n",
      "yay\n",
      "yay\n",
      "yay\n",
      "yay\n",
      "yay\n",
      "yay\n",
      "yay\n",
      "yay\n",
      "yay\n",
      "yay\n",
      "yay\n",
      "yay\n",
      "yay\n",
      "yay\n",
      "yay\n",
      "yay\n",
      "yay\n",
      "yay\n",
      "yay\n",
      "yay\n",
      "yay\n",
      "yay\n",
      "yay\n",
      "yay\n",
      "yay\n",
      "yay\n",
      "yay\n",
      "yay\n",
      "yay\n",
      "yay\n",
      "yay\n",
      "yay\n",
      "yay\n",
      "yay\n",
      "yay\n",
      "yay\n",
      "yay\n",
      "yay\n",
      "yay\n",
      "yay\n",
      "yay\n",
      "yay\n",
      "yay\n",
      "yay\n",
      "yay\n",
      "yay\n",
      "yay\n",
      "yay\n",
      "yay\n",
      "yay\n",
      "yay\n",
      "yay\n",
      "yay\n",
      "yay\n",
      "yay\n",
      "yay\n",
      "yay\n",
      "yay\n",
      "yay\n",
      "yay\n",
      "yay\n",
      "yay\n",
      "yay\n",
      "yay\n",
      "yay\n",
      "yay\n",
      "yay\n",
      "yay\n",
      "yay\n",
      "yay\n",
      "yay\n",
      "yay\n",
      "yay\n",
      "yay\n",
      "yay\n",
      "yay\n",
      "yay\n",
      "yay\n",
      "yay\n",
      "yay\n",
      "yay\n",
      "yay\n",
      "yay\n",
      "yay\n",
      "yay\n",
      "yay\n",
      "yay\n",
      "yay\n",
      "yay\n",
      "yay\n",
      "yay\n",
      "yay\n",
      "yay\n",
      "yay\n",
      "yay\n",
      "yay\n",
      "yay\n",
      "yay\n",
      "yay\n",
      "yay\n",
      "yay\n",
      "yay\n",
      "yay\n",
      "yay\n",
      "yay\n",
      "yay\n",
      "yay\n",
      "yay\n",
      "yay\n",
      "yay\n",
      "yay\n",
      "yay\n",
      "yay\n",
      "yay\n",
      "yay\n",
      "yay\n",
      "yay\n",
      "yay\n",
      "yay\n",
      "yay\n",
      "yay\n",
      "yay\n",
      "yay\n",
      "yay\n",
      "yay\n",
      "yay\n",
      "yay\n",
      "yay\n",
      "yay\n",
      "yay\n",
      "yay\n",
      "yay\n",
      "yay\n",
      "yay\n",
      "yay\n",
      "yay\n",
      "yay\n",
      "yay\n",
      "yay\n",
      "yay\n",
      "yay\n",
      "yay\n",
      "yay\n",
      "yay\n",
      "yay\n",
      "yay\n",
      "yay\n",
      "yay\n",
      "yay\n",
      "yay\n",
      "yay\n",
      "yay\n",
      "yay\n",
      "yay\n",
      "yay\n",
      "yay\n",
      "yay\n",
      "yay\n",
      "yay\n",
      "yay\n",
      "yay\n",
      "yay\n",
      "yay\n",
      "yay\n",
      "yay\n",
      "yay\n",
      "yay\n",
      "yay\n",
      "yay\n",
      "yay\n",
      "yay\n",
      "yay\n",
      "yay\n",
      "yay\n",
      "yay\n",
      "yay\n",
      "yay\n",
      "yay\n",
      "yay\n",
      "yay\n",
      "yay\n",
      "yay\n",
      "yay\n",
      "yay\n",
      "yay\n",
      "yay\n",
      "yay\n",
      "yay\n",
      "yay\n",
      "yay\n",
      "yay\n",
      "yay\n",
      "yay\n",
      "yay\n",
      "yay\n",
      "yay\n",
      "yay\n",
      "yay\n",
      "yay\n",
      "yay\n",
      "yay\n",
      "yay\n",
      "yay\n",
      "yay\n",
      "yay\n",
      "yay\n",
      "yay\n",
      "yay\n",
      "yay\n",
      "yay\n",
      "yay\n",
      "yay\n",
      "yay\n",
      "yay\n",
      "yay\n",
      "yay\n",
      "yay\n",
      "yay\n",
      "yay\n",
      "yay\n",
      "yay\n",
      "yay\n",
      "yay\n",
      "yay\n",
      "yay\n",
      "yay\n",
      "yay\n",
      "yay\n",
      "yay\n",
      "yay\n",
      "yay\n",
      "yay\n",
      "yay\n",
      "yay\n",
      "yay\n",
      "yay\n",
      "yay\n",
      "yay\n",
      "yay\n",
      "yay\n",
      "yay\n",
      "yay\n",
      "yay\n",
      "yay\n",
      "yay\n",
      "yay\n",
      "yay\n"
     ]
    }
   ],
   "source": [
    "def is_historical(cat) :\n",
    "    if 'Historical Archive' in cat : \n",
    "        return 'TRUE'\n",
    "    else :\n",
    "        return 'FALSE'\n"
   ]
  },
  {
   "cell_type": "code",
   "execution_count": 60,
   "metadata": {},
   "outputs": [
    {
     "data": {
      "text/html": [
       "<div>\n",
       "<style scoped>\n",
       "    .dataframe tbody tr th:only-of-type {\n",
       "        vertical-align: middle;\n",
       "    }\n",
       "\n",
       "    .dataframe tbody tr th {\n",
       "        vertical-align: top;\n",
       "    }\n",
       "\n",
       "    .dataframe thead th {\n",
       "        text-align: right;\n",
       "    }\n",
       "</style>\n",
       "<table border=\"1\" class=\"dataframe\">\n",
       "  <thead>\n",
       "    <tr style=\"text-align: right;\">\n",
       "      <th></th>\n",
       "      <th>Auteur</th>\n",
       "      <th>Texte</th>\n",
       "      <th>Category</th>\n",
       "      <th>Lien</th>\n",
       "      <th>date</th>\n",
       "      <th>taille_texte</th>\n",
       "      <th>longueur_phrase_moyenne</th>\n",
       "      <th>taille_texte_mots</th>\n",
       "      <th>is_historical</th>\n",
       "    </tr>\n",
       "  </thead>\n",
       "  <tbody>\n",
       "    <tr>\n",
       "      <th>0</th>\n",
       "      <td>[]</td>\n",
       "      <td>So long as the oceans are the ligaments which ...</td>\n",
       "      <td>[Historical Archive/PD]</td>\n",
       "      <td>https://creepypasta.fandom.com/wiki/%22De_Prof...</td>\n",
       "      <td>30 September 2015</td>\n",
       "      <td>13128</td>\n",
       "      <td>19.106977</td>\n",
       "      <td>3894</td>\n",
       "      <td>FALSE</td>\n",
       "    </tr>\n",
       "    <tr>\n",
       "      <th>1</th>\n",
       "      <td>[]</td>\n",
       "      <td>Though “Geraldine” Atkins was considered by ma...</td>\n",
       "      <td>[Dismemberment, Mental Illness, Music, NSFW]</td>\n",
       "      <td>https://creepypasta.fandom.com/wiki/%22Geraldi...</td>\n",
       "      <td>11 January 2017</td>\n",
       "      <td>13128</td>\n",
       "      <td>15.327160</td>\n",
       "      <td>4643</td>\n",
       "      <td>FALSE</td>\n",
       "    </tr>\n",
       "    <tr>\n",
       "      <th>2</th>\n",
       "      <td>[]</td>\n",
       "      <td>We are trapped within the darkest holes of our...</td>\n",
       "      <td>[Mental Illness, Monsters, Science]</td>\n",
       "      <td>https://creepypasta.fandom.com/wiki/%22Hate%22...</td>\n",
       "      <td>28 May 2013</td>\n",
       "      <td>13128</td>\n",
       "      <td>12.138340</td>\n",
       "      <td>2819</td>\n",
       "      <td>FALSE</td>\n",
       "    </tr>\n",
       "    <tr>\n",
       "      <th>3</th>\n",
       "      <td>[]</td>\n",
       "      <td>Rica hated lack of hygiene.\\n\\nRica absolutely...</td>\n",
       "      <td>[Ghosts]</td>\n",
       "      <td>https://creepypasta.fandom.com/wiki/%22I_Never...</td>\n",
       "      <td>13 November 2019</td>\n",
       "      <td>13128</td>\n",
       "      <td>11.628959</td>\n",
       "      <td>2350</td>\n",
       "      <td>FALSE</td>\n",
       "    </tr>\n",
       "    <tr>\n",
       "      <th>4</th>\n",
       "      <td>[]</td>\n",
       "      <td>&lt;gallery&gt;\\nFile:In the Broad Sense Written by ...</td>\n",
       "      <td>[Nature, Reality, Videos, Killahawke1]</td>\n",
       "      <td>https://creepypasta.fandom.com/wiki/%22In_the_...</td>\n",
       "      <td>7 October 2015</td>\n",
       "      <td>13128</td>\n",
       "      <td>14.848485</td>\n",
       "      <td>915</td>\n",
       "      <td>FALSE</td>\n",
       "    </tr>\n",
       "    <tr>\n",
       "      <th>...</th>\n",
       "      <td>...</td>\n",
       "      <td>...</td>\n",
       "      <td>...</td>\n",
       "      <td>...</td>\n",
       "      <td>...</td>\n",
       "      <td>...</td>\n",
       "      <td>...</td>\n",
       "      <td>...</td>\n",
       "      <td>...</td>\n",
       "    </tr>\n",
       "    <tr>\n",
       "      <th>13123</th>\n",
       "      <td>[]</td>\n",
       "      <td>[[File:Sombra siniestra.jpg|thumb|La Figura.]]...</td>\n",
       "      <td>[AltLang, NSFW, Ritual, Demon/Devil]</td>\n",
       "      <td>https://creepypasta.fandom.com/wiki/%C2%BFEso_...</td>\n",
       "      <td>8 March 2013</td>\n",
       "      <td>13128</td>\n",
       "      <td>25.881818</td>\n",
       "      <td>2738</td>\n",
       "      <td>FALSE</td>\n",
       "    </tr>\n",
       "    <tr>\n",
       "      <th>13124</th>\n",
       "      <td>[]</td>\n",
       "      <td>Leena Kujan led her men through the forest of ...</td>\n",
       "      <td>[Monsters]</td>\n",
       "      <td>https://creepypasta.fandom.com/wiki/%CE%95%CE%...</td>\n",
       "      <td>12 May 2016</td>\n",
       "      <td>13128</td>\n",
       "      <td>18.055556</td>\n",
       "      <td>2457</td>\n",
       "      <td>FALSE</td>\n",
       "    </tr>\n",
       "    <tr>\n",
       "      <th>13125</th>\n",
       "      <td>[]</td>\n",
       "      <td>[[File:Underwater ruins.jpg|thumb|290px]]\\n&lt;po...</td>\n",
       "      <td>[AltLang, Poetry, Beings]</td>\n",
       "      <td>https://creepypasta.fandom.com/wiki/%CE%A4%CE%...</td>\n",
       "      <td>16 May 2012</td>\n",
       "      <td>13128</td>\n",
       "      <td>11.625000</td>\n",
       "      <td>86</td>\n",
       "      <td>FALSE</td>\n",
       "    </tr>\n",
       "    <tr>\n",
       "      <th>13126</th>\n",
       "      <td>[]</td>\n",
       "      <td>Why do people go insane?\\n\\nMaybe one day we'l...</td>\n",
       "      <td>[Mental Illness]</td>\n",
       "      <td>https://creepypasta.fandom.com/wiki/%E8%8B%A6%...</td>\n",
       "      <td>2 April 2013</td>\n",
       "      <td>13128</td>\n",
       "      <td>18.127273</td>\n",
       "      <td>943</td>\n",
       "      <td>FALSE</td>\n",
       "    </tr>\n",
       "    <tr>\n",
       "      <th>13127</th>\n",
       "      <td>[]</td>\n",
       "      <td>{{AN|This is my entry for [[User:Cornconic|Cor...</td>\n",
       "      <td>[Liminal Spaces 2022, Dgrady237, Beings, Places]</td>\n",
       "      <td>https://creepypasta.fandom.com/wiki/%E9%AC%BC%...</td>\n",
       "      <td>4 September 2022</td>\n",
       "      <td>13128</td>\n",
       "      <td>11.686534</td>\n",
       "      <td>4842</td>\n",
       "      <td>FALSE</td>\n",
       "    </tr>\n",
       "  </tbody>\n",
       "</table>\n",
       "<p>13128 rows × 9 columns</p>\n",
       "</div>"
      ],
      "text/plain": [
       "      Auteur                                              Texte  \\\n",
       "0         []  So long as the oceans are the ligaments which ...   \n",
       "1         []  Though “Geraldine” Atkins was considered by ma...   \n",
       "2         []  We are trapped within the darkest holes of our...   \n",
       "3         []  Rica hated lack of hygiene.\\n\\nRica absolutely...   \n",
       "4         []  <gallery>\\nFile:In the Broad Sense Written by ...   \n",
       "...      ...                                                ...   \n",
       "13123     []  [[File:Sombra siniestra.jpg|thumb|La Figura.]]...   \n",
       "13124     []  Leena Kujan led her men through the forest of ...   \n",
       "13125     []  [[File:Underwater ruins.jpg|thumb|290px]]\\n<po...   \n",
       "13126     []  Why do people go insane?\\n\\nMaybe one day we'l...   \n",
       "13127     []  {{AN|This is my entry for [[User:Cornconic|Cor...   \n",
       "\n",
       "                                               Category  \\\n",
       "0                               [Historical Archive/PD]   \n",
       "1          [Dismemberment, Mental Illness, Music, NSFW]   \n",
       "2                   [Mental Illness, Monsters, Science]   \n",
       "3                                              [Ghosts]   \n",
       "4                [Nature, Reality, Videos, Killahawke1]   \n",
       "...                                                 ...   \n",
       "13123              [AltLang, NSFW, Ritual, Demon/Devil]   \n",
       "13124                                        [Monsters]   \n",
       "13125                         [AltLang, Poetry, Beings]   \n",
       "13126                                  [Mental Illness]   \n",
       "13127  [Liminal Spaces 2022, Dgrady237, Beings, Places]   \n",
       "\n",
       "                                                    Lien               date  \\\n",
       "0      https://creepypasta.fandom.com/wiki/%22De_Prof...  30 September 2015   \n",
       "1      https://creepypasta.fandom.com/wiki/%22Geraldi...    11 January 2017   \n",
       "2      https://creepypasta.fandom.com/wiki/%22Hate%22...        28 May 2013   \n",
       "3      https://creepypasta.fandom.com/wiki/%22I_Never...   13 November 2019   \n",
       "4      https://creepypasta.fandom.com/wiki/%22In_the_...     7 October 2015   \n",
       "...                                                  ...                ...   \n",
       "13123  https://creepypasta.fandom.com/wiki/%C2%BFEso_...       8 March 2013   \n",
       "13124  https://creepypasta.fandom.com/wiki/%CE%95%CE%...        12 May 2016   \n",
       "13125  https://creepypasta.fandom.com/wiki/%CE%A4%CE%...        16 May 2012   \n",
       "13126  https://creepypasta.fandom.com/wiki/%E8%8B%A6%...       2 April 2013   \n",
       "13127  https://creepypasta.fandom.com/wiki/%E9%AC%BC%...   4 September 2022   \n",
       "\n",
       "       taille_texte  longueur_phrase_moyenne  taille_texte_mots is_historical  \n",
       "0             13128                19.106977               3894         FALSE  \n",
       "1             13128                15.327160               4643         FALSE  \n",
       "2             13128                12.138340               2819         FALSE  \n",
       "3             13128                11.628959               2350         FALSE  \n",
       "4             13128                14.848485                915         FALSE  \n",
       "...             ...                      ...                ...           ...  \n",
       "13123         13128                25.881818               2738         FALSE  \n",
       "13124         13128                18.055556               2457         FALSE  \n",
       "13125         13128                11.625000                 86         FALSE  \n",
       "13126         13128                18.127273                943         FALSE  \n",
       "13127         13128                11.686534               4842         FALSE  \n",
       "\n",
       "[13128 rows x 9 columns]"
      ]
     },
     "execution_count": 60,
     "metadata": {},
     "output_type": "execute_result"
    }
   ],
   "source": [
    "df_fandom_complete['is_historical']=df_fandom_complete['Category'].apply(is_historical)\n",
    "df_fandom_complete"
   ]
  },
  {
   "cell_type": "code",
   "execution_count": 61,
   "metadata": {},
   "outputs": [],
   "source": [
    "df_fandom_complete['taille_texte']=df_fandom_complete['Texte'].str.len()"
   ]
  },
  {
   "cell_type": "code",
   "execution_count": 66,
   "metadata": {},
   "outputs": [],
   "source": [
    "df_fandom_complete['date']=pd.to_datetime(df_fandom_complete['date'])"
   ]
  },
  {
   "cell_type": "code",
   "execution_count": 69,
   "metadata": {},
   "outputs": [
    {
     "data": {
      "text/html": [
       "<div>\n",
       "<style scoped>\n",
       "    .dataframe tbody tr th:only-of-type {\n",
       "        vertical-align: middle;\n",
       "    }\n",
       "\n",
       "    .dataframe tbody tr th {\n",
       "        vertical-align: top;\n",
       "    }\n",
       "\n",
       "    .dataframe thead th {\n",
       "        text-align: right;\n",
       "    }\n",
       "</style>\n",
       "<table border=\"1\" class=\"dataframe\">\n",
       "  <thead>\n",
       "    <tr style=\"text-align: right;\">\n",
       "      <th></th>\n",
       "      <th>Auteur</th>\n",
       "      <th>Texte</th>\n",
       "      <th>Category</th>\n",
       "      <th>Lien</th>\n",
       "      <th>date</th>\n",
       "      <th>taille_texte</th>\n",
       "      <th>longueur_phrase_moyenne</th>\n",
       "      <th>taille_texte_mots</th>\n",
       "      <th>is_historical</th>\n",
       "      <th>Date_Num</th>\n",
       "    </tr>\n",
       "  </thead>\n",
       "  <tbody>\n",
       "    <tr>\n",
       "      <th>0</th>\n",
       "      <td>[]</td>\n",
       "      <td>So long as the oceans are the ligaments which ...</td>\n",
       "      <td>[Historical Archive/PD]</td>\n",
       "      <td>https://creepypasta.fandom.com/wiki/%22De_Prof...</td>\n",
       "      <td>2015-09-30</td>\n",
       "      <td>20493</td>\n",
       "      <td>19.106977</td>\n",
       "      <td>3894</td>\n",
       "      <td>FALSE</td>\n",
       "      <td>1879</td>\n",
       "    </tr>\n",
       "    <tr>\n",
       "      <th>1</th>\n",
       "      <td>[]</td>\n",
       "      <td>Though “Geraldine” Atkins was considered by ma...</td>\n",
       "      <td>[Dismemberment, Mental Illness, Music, NSFW]</td>\n",
       "      <td>https://creepypasta.fandom.com/wiki/%22Geraldi...</td>\n",
       "      <td>2017-01-11</td>\n",
       "      <td>27461</td>\n",
       "      <td>15.327160</td>\n",
       "      <td>4643</td>\n",
       "      <td>FALSE</td>\n",
       "      <td>2348</td>\n",
       "    </tr>\n",
       "    <tr>\n",
       "      <th>2</th>\n",
       "      <td>[]</td>\n",
       "      <td>We are trapped within the darkest holes of our...</td>\n",
       "      <td>[Mental Illness, Monsters, Science]</td>\n",
       "      <td>https://creepypasta.fandom.com/wiki/%22Hate%22...</td>\n",
       "      <td>2013-05-28</td>\n",
       "      <td>15399</td>\n",
       "      <td>12.138340</td>\n",
       "      <td>2819</td>\n",
       "      <td>FALSE</td>\n",
       "      <td>1024</td>\n",
       "    </tr>\n",
       "    <tr>\n",
       "      <th>3</th>\n",
       "      <td>[]</td>\n",
       "      <td>Rica hated lack of hygiene.\\n\\nRica absolutely...</td>\n",
       "      <td>[Ghosts]</td>\n",
       "      <td>https://creepypasta.fandom.com/wiki/%22I_Never...</td>\n",
       "      <td>2019-11-13</td>\n",
       "      <td>13230</td>\n",
       "      <td>11.628959</td>\n",
       "      <td>2350</td>\n",
       "      <td>FALSE</td>\n",
       "      <td>3384</td>\n",
       "    </tr>\n",
       "    <tr>\n",
       "      <th>4</th>\n",
       "      <td>[]</td>\n",
       "      <td>&lt;gallery&gt;\\nFile:In the Broad Sense Written by ...</td>\n",
       "      <td>[Nature, Reality, Videos, Killahawke1]</td>\n",
       "      <td>https://creepypasta.fandom.com/wiki/%22In_the_...</td>\n",
       "      <td>2015-10-07</td>\n",
       "      <td>5208</td>\n",
       "      <td>14.848485</td>\n",
       "      <td>915</td>\n",
       "      <td>FALSE</td>\n",
       "      <td>1886</td>\n",
       "    </tr>\n",
       "    <tr>\n",
       "      <th>...</th>\n",
       "      <td>...</td>\n",
       "      <td>...</td>\n",
       "      <td>...</td>\n",
       "      <td>...</td>\n",
       "      <td>...</td>\n",
       "      <td>...</td>\n",
       "      <td>...</td>\n",
       "      <td>...</td>\n",
       "      <td>...</td>\n",
       "      <td>...</td>\n",
       "    </tr>\n",
       "    <tr>\n",
       "      <th>13123</th>\n",
       "      <td>[]</td>\n",
       "      <td>[[File:Sombra siniestra.jpg|thumb|La Figura.]]...</td>\n",
       "      <td>[AltLang, NSFW, Ritual, Demon/Devil]</td>\n",
       "      <td>https://creepypasta.fandom.com/wiki/%C2%BFEso_...</td>\n",
       "      <td>2013-03-08</td>\n",
       "      <td>14520</td>\n",
       "      <td>25.881818</td>\n",
       "      <td>2738</td>\n",
       "      <td>FALSE</td>\n",
       "      <td>943</td>\n",
       "    </tr>\n",
       "    <tr>\n",
       "      <th>13124</th>\n",
       "      <td>[]</td>\n",
       "      <td>Leena Kujan led her men through the forest of ...</td>\n",
       "      <td>[Monsters]</td>\n",
       "      <td>https://creepypasta.fandom.com/wiki/%CE%95%CE%...</td>\n",
       "      <td>2016-05-12</td>\n",
       "      <td>13848</td>\n",
       "      <td>18.055556</td>\n",
       "      <td>2457</td>\n",
       "      <td>FALSE</td>\n",
       "      <td>2104</td>\n",
       "    </tr>\n",
       "    <tr>\n",
       "      <th>13125</th>\n",
       "      <td>[]</td>\n",
       "      <td>[[File:Underwater ruins.jpg|thumb|290px]]\\n&lt;po...</td>\n",
       "      <td>[AltLang, Poetry, Beings]</td>\n",
       "      <td>https://creepypasta.fandom.com/wiki/%CE%A4%CE%...</td>\n",
       "      <td>2012-05-16</td>\n",
       "      <td>833</td>\n",
       "      <td>11.625000</td>\n",
       "      <td>86</td>\n",
       "      <td>FALSE</td>\n",
       "      <td>647</td>\n",
       "    </tr>\n",
       "    <tr>\n",
       "      <th>13126</th>\n",
       "      <td>[]</td>\n",
       "      <td>Why do people go insane?\\n\\nMaybe one day we'l...</td>\n",
       "      <td>[Mental Illness]</td>\n",
       "      <td>https://creepypasta.fandom.com/wiki/%E8%8B%A6%...</td>\n",
       "      <td>2013-04-02</td>\n",
       "      <td>5079</td>\n",
       "      <td>18.127273</td>\n",
       "      <td>943</td>\n",
       "      <td>FALSE</td>\n",
       "      <td>968</td>\n",
       "    </tr>\n",
       "    <tr>\n",
       "      <th>13127</th>\n",
       "      <td>[]</td>\n",
       "      <td>{{AN|This is my entry for [[User:Cornconic|Cor...</td>\n",
       "      <td>[Liminal Spaces 2022, Dgrady237, Beings, Places]</td>\n",
       "      <td>https://creepypasta.fandom.com/wiki/%E9%AC%BC%...</td>\n",
       "      <td>2022-09-04</td>\n",
       "      <td>27668</td>\n",
       "      <td>11.686534</td>\n",
       "      <td>4842</td>\n",
       "      <td>FALSE</td>\n",
       "      <td>4410</td>\n",
       "    </tr>\n",
       "  </tbody>\n",
       "</table>\n",
       "<p>13128 rows × 10 columns</p>\n",
       "</div>"
      ],
      "text/plain": [
       "      Auteur                                              Texte  \\\n",
       "0         []  So long as the oceans are the ligaments which ...   \n",
       "1         []  Though “Geraldine” Atkins was considered by ma...   \n",
       "2         []  We are trapped within the darkest holes of our...   \n",
       "3         []  Rica hated lack of hygiene.\\n\\nRica absolutely...   \n",
       "4         []  <gallery>\\nFile:In the Broad Sense Written by ...   \n",
       "...      ...                                                ...   \n",
       "13123     []  [[File:Sombra siniestra.jpg|thumb|La Figura.]]...   \n",
       "13124     []  Leena Kujan led her men through the forest of ...   \n",
       "13125     []  [[File:Underwater ruins.jpg|thumb|290px]]\\n<po...   \n",
       "13126     []  Why do people go insane?\\n\\nMaybe one day we'l...   \n",
       "13127     []  {{AN|This is my entry for [[User:Cornconic|Cor...   \n",
       "\n",
       "                                               Category  \\\n",
       "0                               [Historical Archive/PD]   \n",
       "1          [Dismemberment, Mental Illness, Music, NSFW]   \n",
       "2                   [Mental Illness, Monsters, Science]   \n",
       "3                                              [Ghosts]   \n",
       "4                [Nature, Reality, Videos, Killahawke1]   \n",
       "...                                                 ...   \n",
       "13123              [AltLang, NSFW, Ritual, Demon/Devil]   \n",
       "13124                                        [Monsters]   \n",
       "13125                         [AltLang, Poetry, Beings]   \n",
       "13126                                  [Mental Illness]   \n",
       "13127  [Liminal Spaces 2022, Dgrady237, Beings, Places]   \n",
       "\n",
       "                                                    Lien       date  \\\n",
       "0      https://creepypasta.fandom.com/wiki/%22De_Prof... 2015-09-30   \n",
       "1      https://creepypasta.fandom.com/wiki/%22Geraldi... 2017-01-11   \n",
       "2      https://creepypasta.fandom.com/wiki/%22Hate%22... 2013-05-28   \n",
       "3      https://creepypasta.fandom.com/wiki/%22I_Never... 2019-11-13   \n",
       "4      https://creepypasta.fandom.com/wiki/%22In_the_... 2015-10-07   \n",
       "...                                                  ...        ...   \n",
       "13123  https://creepypasta.fandom.com/wiki/%C2%BFEso_... 2013-03-08   \n",
       "13124  https://creepypasta.fandom.com/wiki/%CE%95%CE%... 2016-05-12   \n",
       "13125  https://creepypasta.fandom.com/wiki/%CE%A4%CE%... 2012-05-16   \n",
       "13126  https://creepypasta.fandom.com/wiki/%E8%8B%A6%... 2013-04-02   \n",
       "13127  https://creepypasta.fandom.com/wiki/%E9%AC%BC%... 2022-09-04   \n",
       "\n",
       "       taille_texte  longueur_phrase_moyenne  taille_texte_mots is_historical  \\\n",
       "0             20493                19.106977               3894         FALSE   \n",
       "1             27461                15.327160               4643         FALSE   \n",
       "2             15399                12.138340               2819         FALSE   \n",
       "3             13230                11.628959               2350         FALSE   \n",
       "4              5208                14.848485                915         FALSE   \n",
       "...             ...                      ...                ...           ...   \n",
       "13123         14520                25.881818               2738         FALSE   \n",
       "13124         13848                18.055556               2457         FALSE   \n",
       "13125           833                11.625000                 86         FALSE   \n",
       "13126          5079                18.127273                943         FALSE   \n",
       "13127         27668                11.686534               4842         FALSE   \n",
       "\n",
       "       Date_Num  \n",
       "0          1879  \n",
       "1          2348  \n",
       "2          1024  \n",
       "3          3384  \n",
       "4          1886  \n",
       "...         ...  \n",
       "13123       943  \n",
       "13124      2104  \n",
       "13125       647  \n",
       "13126       968  \n",
       "13127      4410  \n",
       "\n",
       "[13128 rows x 10 columns]"
      ]
     },
     "execution_count": 69,
     "metadata": {},
     "output_type": "execute_result"
    }
   ],
   "source": [
    "df_fandom_complete['Date_Num'] = (df_fandom_complete['date'] - df_fandom_complete['date'].min()).dt.days"
   ]
  },
  {
   "cell_type": "code",
   "execution_count": 76,
   "metadata": {},
   "outputs": [
    {
     "data": {
      "image/png": "[encoded data removed]",
      "text/plain": [
       "<Figure size 500x500 with 1 Axes>"
      ]
     },
     "metadata": {},
     "output_type": "display_data"
    },
    {
     "data": {
      "image/png": "[encoded data removed]",
      "text/plain": [
       "<Figure size 500x500 with 1 Axes>"
      ]
     },
     "metadata": {},
     "output_type": "display_data"
    }
   ],
   "source": [
    "sns.lmplot(df_fandom_complete,x='Date_Num',y='longueur_phrase_moyenne',scatter=False)\n",
    "sns.lmplot(df_fandom_complete,x='Date_Num',y='taille_texte_mots',scatter=False)\n",
    "plt.show()\n"
   ]
  },
  {
   "cell_type": "code",
   "execution_count": 81,
   "metadata": {},
   "outputs": [
    {
     "name": "stdout",
     "output_type": "stream",
     "text": [
      "Statistique U: 1772411.5\n",
      "Valeur p: 4.1400113150734545e-47\n",
      "d de Cohen: -0.1838413701235031\n",
      "Il y a une différence significative entre les longueurs des textes historiques et non historiques.\n",
      "Très petit effet.\n"
     ]
    }
   ],
   "source": [
    "import pandas as pd\n",
    "from scipy.stats import mannwhitneyu\n",
    "import numpy as np\n",
    "\n",
    "\n",
    "\n",
    "def cohen_d(x, y):\n",
    "    nx = len(x)\n",
    "    ny = len(y)\n",
    "    dof = nx + ny - 2\n",
    "    return (np.mean(x) - np.mean(y)) / np.sqrt(((nx - 1) * np.std(x, ddof=1) ** 2 + (ny - 1) * np.std(y, ddof=1) ** 2) / dof)\n",
    "\n",
    "\n",
    "\n",
    "df=df_fandom_complete\n",
    "\n",
    "\n",
    "\n",
    "historical_texts = df[df['is_historical']=='TRUE']['taille_texte_mots']\n",
    "non_historical_texts = df[df['is_historical']=='FALSE']['taille_texte_mots']\n",
    "\n",
    "# Effectuer le test de Mann-Whitney\n",
    "u_statistic, p_value = mannwhitneyu(historical_texts, non_historical_texts)\n",
    "d_value=cohen_d(historical_texts,non_historical_texts)\n",
    "\n",
    "# Afficher les résultats\n",
    "\n",
    "print('Statistique U:', u_statistic)\n",
    "print('Valeur p:', p_value)\n",
    "print('d de Cohen:', d_value)\n",
    "\n",
    "# Interprétation\n",
    "\n",
    "if p_value < 0.05:\n",
    "    print(\"Il y a une différence significative entre les longueurs des textes historiques et non historiques.\")\n",
    "else:\n",
    "    print(\"Il n'y a pas de différence significative entre les longueurs des textes historiques et non historiques.\")\n",
    "\n",
    "\n",
    "# Interprétation de d de Cohen\n",
    "    \n",
    "if d_value < 0.2:\n",
    "    print('Très petit effet.')\n",
    "elif d_value < 0.5:\n",
    "    print('Petit effet.')\n",
    "elif d_value < 0.8:\n",
    "    print('Effet moyen.')\n",
    "else:\n",
    "    print('Grand effet.')"
   ]
  },
  {
   "cell_type": "code",
   "execution_count": 82,
   "metadata": {},
   "outputs": [],
   "source": [
    "df_fandom_complete.to_csv('../17.02_CSV.CSV/cp_fandom_complet.csv')"
   ]
  },
  {
   "cell_type": "code",
   "execution_count": 5,
   "metadata": {},
   "outputs": [],
   "source": [
    "#Charger le document\n",
    "file='../17.02_CSV.CSV/cp_fandom_complet.csv'\n",
    "data=pd.read_csv(file)"
   ]
  },
  {
   "cell_type": "code",
   "execution_count": 4,
   "metadata": {},
   "outputs": [
    {
     "data": {
      "text/html": [
       "<div>\n",
       "<style scoped>\n",
       "    .dataframe tbody tr th:only-of-type {\n",
       "        vertical-align: middle;\n",
       "    }\n",
       "\n",
       "    .dataframe tbody tr th {\n",
       "        vertical-align: top;\n",
       "    }\n",
       "\n",
       "    .dataframe thead th {\n",
       "        text-align: right;\n",
       "    }\n",
       "</style>\n",
       "<table border=\"1\" class=\"dataframe\">\n",
       "  <thead>\n",
       "    <tr style=\"text-align: right;\">\n",
       "      <th></th>\n",
       "      <th>Unnamed: 0</th>\n",
       "      <th>Auteur</th>\n",
       "      <th>Texte</th>\n",
       "      <th>Category</th>\n",
       "      <th>Lien</th>\n",
       "      <th>date</th>\n",
       "      <th>taille_texte</th>\n",
       "      <th>longueur_phrase_moyenne</th>\n",
       "      <th>taille_texte_mots</th>\n",
       "      <th>is_historical</th>\n",
       "      <th>Date_Num</th>\n",
       "    </tr>\n",
       "  </thead>\n",
       "  <tbody>\n",
       "    <tr>\n",
       "      <th>0</th>\n",
       "      <td>0</td>\n",
       "      <td>[]</td>\n",
       "      <td>So long as the oceans are the ligaments which ...</td>\n",
       "      <td>['Historical Archive/PD']</td>\n",
       "      <td>https://creepypasta.fandom.com/wiki/%22De_Prof...</td>\n",
       "      <td>2015-09-30</td>\n",
       "      <td>20493</td>\n",
       "      <td>19.106977</td>\n",
       "      <td>3894</td>\n",
       "      <td>False</td>\n",
       "      <td>1879</td>\n",
       "    </tr>\n",
       "    <tr>\n",
       "      <th>1</th>\n",
       "      <td>1</td>\n",
       "      <td>[]</td>\n",
       "      <td>Though “Geraldine” Atkins was considered by ma...</td>\n",
       "      <td>['Dismemberment', 'Mental Illness', 'Music', '...</td>\n",
       "      <td>https://creepypasta.fandom.com/wiki/%22Geraldi...</td>\n",
       "      <td>2017-01-11</td>\n",
       "      <td>27461</td>\n",
       "      <td>15.327160</td>\n",
       "      <td>4643</td>\n",
       "      <td>False</td>\n",
       "      <td>2348</td>\n",
       "    </tr>\n",
       "    <tr>\n",
       "      <th>2</th>\n",
       "      <td>2</td>\n",
       "      <td>[]</td>\n",
       "      <td>We are trapped within the darkest holes of our...</td>\n",
       "      <td>['Mental Illness', 'Monsters', 'Science']</td>\n",
       "      <td>https://creepypasta.fandom.com/wiki/%22Hate%22...</td>\n",
       "      <td>2013-05-28</td>\n",
       "      <td>15399</td>\n",
       "      <td>12.138340</td>\n",
       "      <td>2819</td>\n",
       "      <td>False</td>\n",
       "      <td>1024</td>\n",
       "    </tr>\n",
       "    <tr>\n",
       "      <th>3</th>\n",
       "      <td>3</td>\n",
       "      <td>[]</td>\n",
       "      <td>Rica hated lack of hygiene.\\n\\nRica absolutely...</td>\n",
       "      <td>['Ghosts']</td>\n",
       "      <td>https://creepypasta.fandom.com/wiki/%22I_Never...</td>\n",
       "      <td>2019-11-13</td>\n",
       "      <td>13230</td>\n",
       "      <td>11.628959</td>\n",
       "      <td>2350</td>\n",
       "      <td>False</td>\n",
       "      <td>3384</td>\n",
       "    </tr>\n",
       "    <tr>\n",
       "      <th>4</th>\n",
       "      <td>4</td>\n",
       "      <td>[]</td>\n",
       "      <td>&lt;gallery&gt;\\nFile:In the Broad Sense Written by ...</td>\n",
       "      <td>['Nature', 'Reality', 'Videos', 'Killahawke1']</td>\n",
       "      <td>https://creepypasta.fandom.com/wiki/%22In_the_...</td>\n",
       "      <td>2015-10-07</td>\n",
       "      <td>5208</td>\n",
       "      <td>14.848485</td>\n",
       "      <td>915</td>\n",
       "      <td>False</td>\n",
       "      <td>1886</td>\n",
       "    </tr>\n",
       "    <tr>\n",
       "      <th>...</th>\n",
       "      <td>...</td>\n",
       "      <td>...</td>\n",
       "      <td>...</td>\n",
       "      <td>...</td>\n",
       "      <td>...</td>\n",
       "      <td>...</td>\n",
       "      <td>...</td>\n",
       "      <td>...</td>\n",
       "      <td>...</td>\n",
       "      <td>...</td>\n",
       "      <td>...</td>\n",
       "    </tr>\n",
       "    <tr>\n",
       "      <th>13123</th>\n",
       "      <td>13123</td>\n",
       "      <td>[]</td>\n",
       "      <td>[[File:Sombra siniestra.jpg|thumb|La Figura.]]...</td>\n",
       "      <td>['AltLang', 'NSFW', 'Ritual', 'Demon/Devil']</td>\n",
       "      <td>https://creepypasta.fandom.com/wiki/%C2%BFEso_...</td>\n",
       "      <td>2013-03-08</td>\n",
       "      <td>14520</td>\n",
       "      <td>25.881818</td>\n",
       "      <td>2738</td>\n",
       "      <td>False</td>\n",
       "      <td>943</td>\n",
       "    </tr>\n",
       "    <tr>\n",
       "      <th>13124</th>\n",
       "      <td>13124</td>\n",
       "      <td>[]</td>\n",
       "      <td>Leena Kujan led her men through the forest of ...</td>\n",
       "      <td>['Monsters']</td>\n",
       "      <td>https://creepypasta.fandom.com/wiki/%CE%95%CE%...</td>\n",
       "      <td>2016-05-12</td>\n",
       "      <td>13848</td>\n",
       "      <td>18.055556</td>\n",
       "      <td>2457</td>\n",
       "      <td>False</td>\n",
       "      <td>2104</td>\n",
       "    </tr>\n",
       "    <tr>\n",
       "      <th>13125</th>\n",
       "      <td>13125</td>\n",
       "      <td>[]</td>\n",
       "      <td>[[File:Underwater ruins.jpg|thumb|290px]]\\n&lt;po...</td>\n",
       "      <td>['AltLang', 'Poetry', 'Beings']</td>\n",
       "      <td>https://creepypasta.fandom.com/wiki/%CE%A4%CE%...</td>\n",
       "      <td>2012-05-16</td>\n",
       "      <td>833</td>\n",
       "      <td>11.625000</td>\n",
       "      <td>86</td>\n",
       "      <td>False</td>\n",
       "      <td>647</td>\n",
       "    </tr>\n",
       "    <tr>\n",
       "      <th>13126</th>\n",
       "      <td>13126</td>\n",
       "      <td>[]</td>\n",
       "      <td>Why do people go insane?\\n\\nMaybe one day we'l...</td>\n",
       "      <td>['Mental Illness']</td>\n",
       "      <td>https://creepypasta.fandom.com/wiki/%E8%8B%A6%...</td>\n",
       "      <td>2013-04-02</td>\n",
       "      <td>5079</td>\n",
       "      <td>18.127273</td>\n",
       "      <td>943</td>\n",
       "      <td>False</td>\n",
       "      <td>968</td>\n",
       "    </tr>\n",
       "    <tr>\n",
       "      <th>13127</th>\n",
       "      <td>13127</td>\n",
       "      <td>[]</td>\n",
       "      <td>{{AN|This is my entry for [[User:Cornconic|Cor...</td>\n",
       "      <td>['Liminal Spaces 2022', 'Dgrady237', 'Beings',...</td>\n",
       "      <td>https://creepypasta.fandom.com/wiki/%E9%AC%BC%...</td>\n",
       "      <td>2022-09-04</td>\n",
       "      <td>27668</td>\n",
       "      <td>11.686534</td>\n",
       "      <td>4842</td>\n",
       "      <td>False</td>\n",
       "      <td>4410</td>\n",
       "    </tr>\n",
       "  </tbody>\n",
       "</table>\n",
       "<p>13128 rows × 11 columns</p>\n",
       "</div>"
      ],
      "text/plain": [
       "       Unnamed: 0 Auteur                                              Texte  \\\n",
       "0               0     []  So long as the oceans are the ligaments which ...   \n",
       "1               1     []  Though “Geraldine” Atkins was considered by ma...   \n",
       "2               2     []  We are trapped within the darkest holes of our...   \n",
       "3               3     []  Rica hated lack of hygiene.\\n\\nRica absolutely...   \n",
       "4               4     []  <gallery>\\nFile:In the Broad Sense Written by ...   \n",
       "...           ...    ...                                                ...   \n",
       "13123       13123     []  [[File:Sombra siniestra.jpg|thumb|La Figura.]]...   \n",
       "13124       13124     []  Leena Kujan led her men through the forest of ...   \n",
       "13125       13125     []  [[File:Underwater ruins.jpg|thumb|290px]]\\n<po...   \n",
       "13126       13126     []  Why do people go insane?\\n\\nMaybe one day we'l...   \n",
       "13127       13127     []  {{AN|This is my entry for [[User:Cornconic|Cor...   \n",
       "\n",
       "                                                Category  \\\n",
       "0                              ['Historical Archive/PD']   \n",
       "1      ['Dismemberment', 'Mental Illness', 'Music', '...   \n",
       "2              ['Mental Illness', 'Monsters', 'Science']   \n",
       "3                                             ['Ghosts']   \n",
       "4         ['Nature', 'Reality', 'Videos', 'Killahawke1']   \n",
       "...                                                  ...   \n",
       "13123       ['AltLang', 'NSFW', 'Ritual', 'Demon/Devil']   \n",
       "13124                                       ['Monsters']   \n",
       "13125                    ['AltLang', 'Poetry', 'Beings']   \n",
       "13126                                 ['Mental Illness']   \n",
       "13127  ['Liminal Spaces 2022', 'Dgrady237', 'Beings',...   \n",
       "\n",
       "                                                    Lien        date  \\\n",
       "0      https://creepypasta.fandom.com/wiki/%22De_Prof...  2015-09-30   \n",
       "1      https://creepypasta.fandom.com/wiki/%22Geraldi...  2017-01-11   \n",
       "2      https://creepypasta.fandom.com/wiki/%22Hate%22...  2013-05-28   \n",
       "3      https://creepypasta.fandom.com/wiki/%22I_Never...  2019-11-13   \n",
       "4      https://creepypasta.fandom.com/wiki/%22In_the_...  2015-10-07   \n",
       "...                                                  ...         ...   \n",
       "13123  https://creepypasta.fandom.com/wiki/%C2%BFEso_...  2013-03-08   \n",
       "13124  https://creepypasta.fandom.com/wiki/%CE%95%CE%...  2016-05-12   \n",
       "13125  https://creepypasta.fandom.com/wiki/%CE%A4%CE%...  2012-05-16   \n",
       "13126  https://creepypasta.fandom.com/wiki/%E8%8B%A6%...  2013-04-02   \n",
       "13127  https://creepypasta.fandom.com/wiki/%E9%AC%BC%...  2022-09-04   \n",
       "\n",
       "       taille_texte  longueur_phrase_moyenne  taille_texte_mots  \\\n",
       "0             20493                19.106977               3894   \n",
       "1             27461                15.327160               4643   \n",
       "2             15399                12.138340               2819   \n",
       "3             13230                11.628959               2350   \n",
       "4              5208                14.848485                915   \n",
       "...             ...                      ...                ...   \n",
       "13123         14520                25.881818               2738   \n",
       "13124         13848                18.055556               2457   \n",
       "13125           833                11.625000                 86   \n",
       "13126          5079                18.127273                943   \n",
       "13127         27668                11.686534               4842   \n",
       "\n",
       "       is_historical  Date_Num  \n",
       "0              False      1879  \n",
       "1              False      2348  \n",
       "2              False      1024  \n",
       "3              False      3384  \n",
       "4              False      1886  \n",
       "...              ...       ...  \n",
       "13123          False       943  \n",
       "13124          False      2104  \n",
       "13125          False       647  \n",
       "13126          False       968  \n",
       "13127          False      4410  \n",
       "\n",
       "[13128 rows x 11 columns]"
      ]
     },
     "execution_count": 4,
     "metadata": {},
     "output_type": "execute_result"
    }
   ],
   "source": [
    "data"
   ]
  },
  {
   "cell_type": "code",
   "execution_count": 6,
   "metadata": {},
   "outputs": [
    {
     "data": {
      "text/html": [
       "<div>\n",
       "<style scoped>\n",
       "    .dataframe tbody tr th:only-of-type {\n",
       "        vertical-align: middle;\n",
       "    }\n",
       "\n",
       "    .dataframe tbody tr th {\n",
       "        vertical-align: top;\n",
       "    }\n",
       "\n",
       "    .dataframe thead th {\n",
       "        text-align: right;\n",
       "    }\n",
       "</style>\n",
       "<table border=\"1\" class=\"dataframe\">\n",
       "  <thead>\n",
       "    <tr style=\"text-align: right;\">\n",
       "      <th></th>\n",
       "      <th>Unnamed: 0</th>\n",
       "      <th>Auteur</th>\n",
       "      <th>Texte</th>\n",
       "      <th>Category</th>\n",
       "      <th>Lien</th>\n",
       "      <th>date</th>\n",
       "      <th>taille_texte</th>\n",
       "      <th>longueur_phrase_moyenne</th>\n",
       "      <th>taille_texte_mots</th>\n",
       "      <th>is_historical</th>\n",
       "      <th>Date_Num</th>\n",
       "    </tr>\n",
       "  </thead>\n",
       "  <tbody>\n",
       "    <tr>\n",
       "      <th>0</th>\n",
       "      <td>0</td>\n",
       "      <td>[]</td>\n",
       "      <td>So long as the oceans are the ligaments which ...</td>\n",
       "      <td>['Historical Archive/PD']</td>\n",
       "      <td>https://creepypasta.fandom.com/wiki/%22De_Prof...</td>\n",
       "      <td>2015-09-30</td>\n",
       "      <td>20493</td>\n",
       "      <td>19.106977</td>\n",
       "      <td>3894</td>\n",
       "      <td>False</td>\n",
       "      <td>1879</td>\n",
       "    </tr>\n",
       "    <tr>\n",
       "      <th>1</th>\n",
       "      <td>1</td>\n",
       "      <td>[]</td>\n",
       "      <td>Though “Geraldine” Atkins was considered by ma...</td>\n",
       "      <td>['Dismemberment', 'Mental Illness', 'Music', '...</td>\n",
       "      <td>https://creepypasta.fandom.com/wiki/%22Geraldi...</td>\n",
       "      <td>2017-01-11</td>\n",
       "      <td>27461</td>\n",
       "      <td>15.327160</td>\n",
       "      <td>4643</td>\n",
       "      <td>False</td>\n",
       "      <td>2348</td>\n",
       "    </tr>\n",
       "    <tr>\n",
       "      <th>2</th>\n",
       "      <td>2</td>\n",
       "      <td>[]</td>\n",
       "      <td>We are trapped within the darkest holes of our...</td>\n",
       "      <td>['Mental Illness', 'Monsters', 'Science']</td>\n",
       "      <td>https://creepypasta.fandom.com/wiki/%22Hate%22...</td>\n",
       "      <td>2013-05-28</td>\n",
       "      <td>15399</td>\n",
       "      <td>12.138340</td>\n",
       "      <td>2819</td>\n",
       "      <td>False</td>\n",
       "      <td>1024</td>\n",
       "    </tr>\n",
       "    <tr>\n",
       "      <th>3</th>\n",
       "      <td>3</td>\n",
       "      <td>[]</td>\n",
       "      <td>Rica hated lack of hygiene.\\n\\nRica absolutely...</td>\n",
       "      <td>['Ghosts']</td>\n",
       "      <td>https://creepypasta.fandom.com/wiki/%22I_Never...</td>\n",
       "      <td>2019-11-13</td>\n",
       "      <td>13230</td>\n",
       "      <td>11.628959</td>\n",
       "      <td>2350</td>\n",
       "      <td>False</td>\n",
       "      <td>3384</td>\n",
       "    </tr>\n",
       "    <tr>\n",
       "      <th>4</th>\n",
       "      <td>4</td>\n",
       "      <td>[]</td>\n",
       "      <td>&lt;gallery&gt;\\nFile:In the Broad Sense Written by ...</td>\n",
       "      <td>['Nature', 'Reality', 'Videos', 'Killahawke1']</td>\n",
       "      <td>https://creepypasta.fandom.com/wiki/%22In_the_...</td>\n",
       "      <td>2015-10-07</td>\n",
       "      <td>5208</td>\n",
       "      <td>14.848485</td>\n",
       "      <td>915</td>\n",
       "      <td>False</td>\n",
       "      <td>1886</td>\n",
       "    </tr>\n",
       "    <tr>\n",
       "      <th>...</th>\n",
       "      <td>...</td>\n",
       "      <td>...</td>\n",
       "      <td>...</td>\n",
       "      <td>...</td>\n",
       "      <td>...</td>\n",
       "      <td>...</td>\n",
       "      <td>...</td>\n",
       "      <td>...</td>\n",
       "      <td>...</td>\n",
       "      <td>...</td>\n",
       "      <td>...</td>\n",
       "    </tr>\n",
       "    <tr>\n",
       "      <th>13123</th>\n",
       "      <td>13123</td>\n",
       "      <td>[]</td>\n",
       "      <td>[[File:Sombra siniestra.jpg|thumb|La Figura.]]...</td>\n",
       "      <td>['AltLang', 'NSFW', 'Ritual', 'Demon/Devil']</td>\n",
       "      <td>https://creepypasta.fandom.com/wiki/%C2%BFEso_...</td>\n",
       "      <td>2013-03-08</td>\n",
       "      <td>14520</td>\n",
       "      <td>25.881818</td>\n",
       "      <td>2738</td>\n",
       "      <td>False</td>\n",
       "      <td>943</td>\n",
       "    </tr>\n",
       "    <tr>\n",
       "      <th>13124</th>\n",
       "      <td>13124</td>\n",
       "      <td>[]</td>\n",
       "      <td>Leena Kujan led her men through the forest of ...</td>\n",
       "      <td>['Monsters']</td>\n",
       "      <td>https://creepypasta.fandom.com/wiki/%CE%95%CE%...</td>\n",
       "      <td>2016-05-12</td>\n",
       "      <td>13848</td>\n",
       "      <td>18.055556</td>\n",
       "      <td>2457</td>\n",
       "      <td>False</td>\n",
       "      <td>2104</td>\n",
       "    </tr>\n",
       "    <tr>\n",
       "      <th>13125</th>\n",
       "      <td>13125</td>\n",
       "      <td>[]</td>\n",
       "      <td>[[File:Underwater ruins.jpg|thumb|290px]]\\n&lt;po...</td>\n",
       "      <td>['AltLang', 'Poetry', 'Beings']</td>\n",
       "      <td>https://creepypasta.fandom.com/wiki/%CE%A4%CE%...</td>\n",
       "      <td>2012-05-16</td>\n",
       "      <td>833</td>\n",
       "      <td>11.625000</td>\n",
       "      <td>86</td>\n",
       "      <td>False</td>\n",
       "      <td>647</td>\n",
       "    </tr>\n",
       "    <tr>\n",
       "      <th>13126</th>\n",
       "      <td>13126</td>\n",
       "      <td>[]</td>\n",
       "      <td>Why do people go insane?\\n\\nMaybe one day we'l...</td>\n",
       "      <td>['Mental Illness']</td>\n",
       "      <td>https://creepypasta.fandom.com/wiki/%E8%8B%A6%...</td>\n",
       "      <td>2013-04-02</td>\n",
       "      <td>5079</td>\n",
       "      <td>18.127273</td>\n",
       "      <td>943</td>\n",
       "      <td>False</td>\n",
       "      <td>968</td>\n",
       "    </tr>\n",
       "    <tr>\n",
       "      <th>13127</th>\n",
       "      <td>13127</td>\n",
       "      <td>[]</td>\n",
       "      <td>{{AN|This is my entry for [[User:Cornconic|Cor...</td>\n",
       "      <td>['Liminal Spaces 2022', 'Dgrady237', 'Beings',...</td>\n",
       "      <td>https://creepypasta.fandom.com/wiki/%E9%AC%BC%...</td>\n",
       "      <td>2022-09-04</td>\n",
       "      <td>27668</td>\n",
       "      <td>11.686534</td>\n",
       "      <td>4842</td>\n",
       "      <td>False</td>\n",
       "      <td>4410</td>\n",
       "    </tr>\n",
       "  </tbody>\n",
       "</table>\n",
       "<p>13118 rows × 11 columns</p>\n",
       "</div>"
      ],
      "text/plain": [
       "       Unnamed: 0 Auteur                                              Texte  \\\n",
       "0               0     []  So long as the oceans are the ligaments which ...   \n",
       "1               1     []  Though “Geraldine” Atkins was considered by ma...   \n",
       "2               2     []  We are trapped within the darkest holes of our...   \n",
       "3               3     []  Rica hated lack of hygiene.\\n\\nRica absolutely...   \n",
       "4               4     []  <gallery>\\nFile:In the Broad Sense Written by ...   \n",
       "...           ...    ...                                                ...   \n",
       "13123       13123     []  [[File:Sombra siniestra.jpg|thumb|La Figura.]]...   \n",
       "13124       13124     []  Leena Kujan led her men through the forest of ...   \n",
       "13125       13125     []  [[File:Underwater ruins.jpg|thumb|290px]]\\n<po...   \n",
       "13126       13126     []  Why do people go insane?\\n\\nMaybe one day we'l...   \n",
       "13127       13127     []  {{AN|This is my entry for [[User:Cornconic|Cor...   \n",
       "\n",
       "                                                Category  \\\n",
       "0                              ['Historical Archive/PD']   \n",
       "1      ['Dismemberment', 'Mental Illness', 'Music', '...   \n",
       "2              ['Mental Illness', 'Monsters', 'Science']   \n",
       "3                                             ['Ghosts']   \n",
       "4         ['Nature', 'Reality', 'Videos', 'Killahawke1']   \n",
       "...                                                  ...   \n",
       "13123       ['AltLang', 'NSFW', 'Ritual', 'Demon/Devil']   \n",
       "13124                                       ['Monsters']   \n",
       "13125                    ['AltLang', 'Poetry', 'Beings']   \n",
       "13126                                 ['Mental Illness']   \n",
       "13127  ['Liminal Spaces 2022', 'Dgrady237', 'Beings',...   \n",
       "\n",
       "                                                    Lien        date  \\\n",
       "0      https://creepypasta.fandom.com/wiki/%22De_Prof...  2015-09-30   \n",
       "1      https://creepypasta.fandom.com/wiki/%22Geraldi...  2017-01-11   \n",
       "2      https://creepypasta.fandom.com/wiki/%22Hate%22...  2013-05-28   \n",
       "3      https://creepypasta.fandom.com/wiki/%22I_Never...  2019-11-13   \n",
       "4      https://creepypasta.fandom.com/wiki/%22In_the_...  2015-10-07   \n",
       "...                                                  ...         ...   \n",
       "13123  https://creepypasta.fandom.com/wiki/%C2%BFEso_...  2013-03-08   \n",
       "13124  https://creepypasta.fandom.com/wiki/%CE%95%CE%...  2016-05-12   \n",
       "13125  https://creepypasta.fandom.com/wiki/%CE%A4%CE%...  2012-05-16   \n",
       "13126  https://creepypasta.fandom.com/wiki/%E8%8B%A6%...  2013-04-02   \n",
       "13127  https://creepypasta.fandom.com/wiki/%E9%AC%BC%...  2022-09-04   \n",
       "\n",
       "       taille_texte  longueur_phrase_moyenne  taille_texte_mots  \\\n",
       "0             20493                19.106977               3894   \n",
       "1             27461                15.327160               4643   \n",
       "2             15399                12.138340               2819   \n",
       "3             13230                11.628959               2350   \n",
       "4              5208                14.848485                915   \n",
       "...             ...                      ...                ...   \n",
       "13123         14520                25.881818               2738   \n",
       "13124         13848                18.055556               2457   \n",
       "13125           833                11.625000                 86   \n",
       "13126          5079                18.127273                943   \n",
       "13127         27668                11.686534               4842   \n",
       "\n",
       "       is_historical  Date_Num  \n",
       "0              False      1879  \n",
       "1              False      2348  \n",
       "2              False      1024  \n",
       "3              False      3384  \n",
       "4              False      1886  \n",
       "...              ...       ...  \n",
       "13123          False       943  \n",
       "13124          False      2104  \n",
       "13125          False       647  \n",
       "13126          False       968  \n",
       "13127          False      4410  \n",
       "\n",
       "[13118 rows x 11 columns]"
      ]
     },
     "execution_count": 6,
     "metadata": {},
     "output_type": "execute_result"
    }
   ],
   "source": [
    "data_filtered=data[data[\"Texte\"].apply(lambda x : isinstance(x,str) and len(x)>300)]\n",
    "data_filtered"
   ]
  },
  {
   "cell_type": "code",
   "execution_count": 9,
   "metadata": {},
   "outputs": [
    {
     "data": {
      "text/plain": [
       "13118"
      ]
     },
     "execution_count": 9,
     "metadata": {},
     "output_type": "execute_result"
    }
   ],
   "source": [
    "texte=data_filtered['Texte'].tolist()\n"
   ]
  },
  {
   "cell_type": "code",
   "execution_count": 58,
   "metadata": {},
   "outputs": [
    {
     "name": "stdout",
     "output_type": "stream",
     "text": [
      "180\n"
     ]
    },
    {
     "name": "stderr",
     "output_type": "stream",
     "text": [
      "[nltk_data] Downloading package stopwords to /Users/rolly/nltk_data...\n",
      "[nltk_data]   Package stopwords is already up-to-date!\n"
     ]
    }
   ],
   "source": [
    "nltk.download('stopwords')\n",
    "en_stop=stopwords.words('english')\n",
    "en_stop.append('like')\n",
    "print(len(en_stop))"
   ]
  },
  {
   "cell_type": "code",
   "execution_count": 59,
   "metadata": {},
   "outputs": [
    {
     "name": "stdout",
     "output_type": "stream",
     "text": [
      "['i', 'me', 'my', 'myself', 'we', 'our', 'ours', 'ourselves', 'you', 'youre', 'youve', 'youll', 'youd', 'your', 'yours', 'yourself', 'yourselves', 'he', 'him', 'his', 'himself', 'she', 'shes', 'her', 'hers', 'herself', 'it', 'its', 'its', 'itself', 'they', 'them', 'their', 'theirs', 'themselves', 'what', 'which', 'who', 'whom', 'this', 'that', 'thatll', 'these', 'those', 'am', 'is', 'are', 'was', 'were', 'be', 'been', 'being', 'have', 'has', 'had', 'having', 'do', 'does', 'did', 'doing', 'a', 'an', 'the', 'and', 'but', 'if', 'or', 'because', 'as', 'until', 'while', 'of', 'at', 'by', 'for', 'with', 'about', 'against', 'between', 'into', 'through', 'during', 'before', 'after', 'above', 'below', 'to', 'from', 'up', 'down', 'in', 'out', 'on', 'off', 'over', 'under', 'again', 'further', 'then', 'once', 'here', 'there', 'when', 'where', 'why', 'how', 'all', 'any', 'both', 'each', 'few', 'more', 'most', 'other', 'some', 'such', 'no', 'nor', 'not', 'only', 'own', 'same', 'so', 'than', 'too', 'very', 's', 't', 'can', 'will', 'just', 'don', 'dont', 'should', 'shouldve', 'now', 'd', 'll', 'm', 'o', 're', 've', 'y', 'ain', 'aren', 'arent', 'couldn', 'couldnt', 'didn', 'didnt', 'doesn', 'doesnt', 'hadn', 'hadnt', 'hasn', 'hasnt', 'haven', 'havent', 'isn', 'isnt', 'ma', 'mightn', 'mightnt', 'mustn', 'mustnt', 'needn', 'neednt', 'shan', 'shant', 'shouldn', 'shouldnt', 'wasn', 'wasnt', 'weren', 'werent', 'won', 'wont', 'wouldn', 'wouldnt', 'like']\n"
     ]
    }
   ],
   "source": [
    "sw=[]\n",
    "for i in en_stop : \n",
    "    if \"'\" in i : \n",
    "        sw.append(i.replace(\"'\",''))\n",
    "    else : \n",
    "        sw.append(i)\n",
    "print(sw)\n"
   ]
  },
  {
   "cell_type": "code",
   "execution_count": 55,
   "metadata": {},
   "outputs": [
    {
     "name": "stdout",
     "output_type": "stream",
     "text": [
      "['youre', 'youve', 'youll', 'youd', 'shes', 'its', 'thatll', 'dont', 'shouldve', 'arent', 'couldnt', 'didnt', 'doesnt', 'hadnt', 'hasnt', 'havent', 'isnt', 'mightnt', 'mustnt', 'neednt', 'shant', 'shouldnt', 'wasnt', 'werent', 'wont', 'wouldnt']\n"
     ]
    }
   ],
   "source": [
    "print(en_stop)"
   ]
  },
  {
   "cell_type": "code",
   "execution_count": 29,
   "metadata": {},
   "outputs": [],
   "source": [
    "vectorizer_model=CountVectorizer(stop_words=en_stop,ngram_range=(1,2))\n",
    "\n",
    "model= BERTopic(\n",
    "    vectorizer_model=vectorizer_model,\n",
    "    language='english',\n",
    "    calculate_probabilities=True,\n",
    "    verbose=True\n",
    ")\n"
   ]
  },
  {
   "cell_type": "code",
   "execution_count": 30,
   "metadata": {},
   "outputs": [
    {
     "name": "stderr",
     "output_type": "stream",
     "text": [
      "2024-03-04 15:57:00,360 - BERTopic - Embedding - Transforming documents to embeddings.\n",
      "Batches: 100%|██████████| 410/410 [02:32<00:00,  2.69it/s]\n",
      "2024-03-04 15:59:39,032 - BERTopic - Embedding - Completed ✓\n",
      "2024-03-04 15:59:39,032 - BERTopic - Dimensionality - Fitting the dimensionality reduction algorithm\n",
      "2024-03-04 15:59:42,953 - BERTopic - Dimensionality - Completed ✓\n",
      "2024-03-04 15:59:42,954 - BERTopic - Cluster - Start clustering the reduced embeddings\n",
      "2024-03-04 15:59:46,247 - BERTopic - Cluster - Completed ✓\n",
      "2024-03-04 15:59:46,249 - BERTopic - Representation - Extracting topics from clusters using representation models.\n",
      "2024-03-04 16:00:40,804 - BERTopic - Representation - Completed ✓\n"
     ]
    }
   ],
   "source": [
    "topics, probs = model.fit_transform(texte)"
   ]
  },
  {
   "cell_type": "code",
   "execution_count": 31,
   "metadata": {},
   "outputs": [],
   "source": [
    "topic_3=model.visualize_barchart()"
   ]
  },
  {
   "cell_type": "code",
   "execution_count": 32,
   "metadata": {},
   "outputs": [
    {
     "data": {
      "application/vnd.plotly.v1+json": {
       "config": {
        "plotlyServerURL": "https://plot.ly"
       },
       "data": [
        {
         "marker": {
          "color": "#D55E00"
         },
         "orientation": "h",
         "type": "bar",
         "x": [
          0.00417778570873221,
          0.004346516935967478,
          0.004480079176339634,
          0.004630348472840362,
          0.00506453861517494
         ],
         "xaxis": "x",
         "y": [
          "one  ",
          "eyes  ",
          "could  ",
          "said  ",
          "back  "
         ],
         "yaxis": "y"
        },
        {
         "marker": {
          "color": "#0072B2"
         },
         "orientation": "h",
         "type": "bar",
         "x": [
          0.008461489191821771,
          0.008550057810388964,
          0.008669443388603997,
          0.010364643587316728,
          0.017309678074155073
         ],
         "xaxis": "x2",
         "y": [
          "object  ",
          "door  ",
          "must  ",
          "ask  ",
          "holder  "
         ],
         "yaxis": "y2"
        },
        {
         "marker": {
          "color": "#CC79A7"
         },
         "orientation": "h",
         "type": "bar",
         "x": [
          0.004687441653191063,
          0.004848676764866094,
          0.004949957698179932,
          0.004985141100237294,
          0.00542248737889098
         ],
         "xaxis": "x3",
         "y": [
          "one  ",
          "could  ",
          "forest  ",
          "woods  ",
          "back  "
         ],
         "yaxis": "y3"
        },
        {
         "marker": {
          "color": "#E69F00"
         },
         "orientation": "h",
         "type": "bar",
         "x": [
          0.00470798136935713,
          0.004865272733141227,
          0.005333278770496117,
          0.005634229823416459,
          0.005940143595371151
         ],
         "xaxis": "x4",
         "y": [
          "back  ",
          "one  ",
          "could  ",
          "didnt  ",
          "would  "
         ],
         "yaxis": "y4"
        },
        {
         "marker": {
          "color": "#56B4E9"
         },
         "orientation": "h",
         "type": "bar",
         "x": [
          0.004782751189503792,
          0.004805395488747442,
          0.005280092752613877,
          0.005465969636614008,
          0.005888050165429354
         ],
         "xaxis": "x5",
         "y": [
          "world  ",
          "time  ",
          "one  ",
          "would  ",
          "life  "
         ],
         "yaxis": "y5"
        },
        {
         "marker": {
          "color": "#009E73"
         },
         "orientation": "h",
         "type": "bar",
         "x": [
          0.004643874636207245,
          0.005071109892045668,
          0.005134317475822323,
          0.005476033518127011,
          0.005573810362320648
         ],
         "xaxis": "x6",
         "y": [
          "around  ",
          "felt  ",
          "eyes  ",
          "could  ",
          "back  "
         ],
         "yaxis": "y6"
        },
        {
         "marker": {
          "color": "#F0E442"
         },
         "orientation": "h",
         "type": "bar",
         "x": [
          0.004838269630733602,
          0.004863615185445833,
          0.005408507561649813,
          0.009057131665009883,
          0.013516393556940261
         ],
         "xaxis": "x7",
         "y": [
          "would  ",
          "eyes  ",
          "could  ",
          "dreams  ",
          "dream  "
         ],
         "yaxis": "y7"
        },
        {
         "marker": {
          "color": "#D55E00"
         },
         "orientation": "h",
         "type": "bar",
         "x": [
          0.004162937339491224,
          0.004615148636839401,
          0.004951490146936167,
          0.005141276193972938,
          0.0061214692276804015
         ],
         "xaxis": "x8",
         "y": [
          "even  ",
          "could  ",
          "one  ",
          "would  ",
          "said  "
         ],
         "yaxis": "y8"
        }
       ],
       "layout": {
        "annotations": [
         {
          "font": {
           "size": 16
          },
          "showarrow": false,
          "text": "Topic 0",
          "x": 0.0875,
          "xanchor": "center",
          "xref": "paper",
          "y": 1,
          "yanchor": "bottom",
          "yref": "paper"
         },
         {
          "font": {
           "size": 16
          },
          "showarrow": false,
          "text": "Topic 1",
          "x": 0.36250000000000004,
          "xanchor": "center",
          "xref": "paper",
          "y": 1,
          "yanchor": "bottom",
          "yref": "paper"
         },
         {
          "font": {
           "size": 16
          },
          "showarrow": false,
          "text": "Topic 2",
          "x": 0.6375000000000001,
          "xanchor": "center",
          "xref": "paper",
          "y": 1,
          "yanchor": "bottom",
          "yref": "paper"
         },
         {
          "font": {
           "size": 16
          },
          "showarrow": false,
          "text": "Topic 3",
          "x": 0.9125,
          "xanchor": "center",
          "xref": "paper",
          "y": 1,
          "yanchor": "bottom",
          "yref": "paper"
         },
         {
          "font": {
           "size": 16
          },
          "showarrow": false,
          "text": "Topic 4",
          "x": 0.0875,
          "xanchor": "center",
          "xref": "paper",
          "y": 0.4,
          "yanchor": "bottom",
          "yref": "paper"
         },
         {
          "font": {
           "size": 16
          },
          "showarrow": false,
          "text": "Topic 5",
          "x": 0.36250000000000004,
          "xanchor": "center",
          "xref": "paper",
          "y": 0.4,
          "yanchor": "bottom",
          "yref": "paper"
         },
         {
          "font": {
           "size": 16
          },
          "showarrow": false,
          "text": "Topic 6",
          "x": 0.6375000000000001,
          "xanchor": "center",
          "xref": "paper",
          "y": 0.4,
          "yanchor": "bottom",
          "yref": "paper"
         },
         {
          "font": {
           "size": 16
          },
          "showarrow": false,
          "text": "Topic 7",
          "x": 0.9125,
          "xanchor": "center",
          "xref": "paper",
          "y": 0.4,
          "yanchor": "bottom",
          "yref": "paper"
         }
        ],
        "height": 500,
        "hoverlabel": {
         "bgcolor": "white",
         "font": {
          "family": "Rockwell",
          "size": 16
         }
        },
        "showlegend": false,
        "template": {
         "data": {
          "bar": [
           {
            "error_x": {
             "color": "#2a3f5f"
            },
            "error_y": {
             "color": "#2a3f5f"
            },
            "marker": {
             "line": {
              "color": "white",
              "width": 0.5
             },
             "pattern": {
              "fillmode": "overlay",
              "size": 10,
              "solidity": 0.2
             }
            },
            "type": "bar"
           }
          ],
          "barpolar": [
           {
            "marker": {
             "line": {
              "color": "white",
              "width": 0.5
             },
             "pattern": {
              "fillmode": "overlay",
              "size": 10,
              "solidity": 0.2
             }
            },
            "type": "barpolar"
           }
          ],
          "carpet": [
           {
            "aaxis": {
             "endlinecolor": "#2a3f5f",
             "gridcolor": "#C8D4E3",
             "linecolor": "#C8D4E3",
             "minorgridcolor": "#C8D4E3",
             "startlinecolor": "#2a3f5f"
            },
            "baxis": {
             "endlinecolor": "#2a3f5f",
             "gridcolor": "#C8D4E3",
             "linecolor": "#C8D4E3",
             "minorgridcolor": "#C8D4E3",
             "startlinecolor": "#2a3f5f"
            },
            "type": "carpet"
           }
          ],
          "choropleth": [
           {
            "colorbar": {
             "outlinewidth": 0,
             "ticks": ""
            },
            "type": "choropleth"
           }
          ],
          "contour": [
           {
            "colorbar": {
             "outlinewidth": 0,
             "ticks": ""
            },
            "colorscale": [
             [
              0,
              "#0d0887"
             ],
             [
              0.1111111111111111,
              "#46039f"
             ],
             [
              0.2222222222222222,
              "#7201a8"
             ],
             [
              0.3333333333333333,
              "#9c179e"
             ],
             [
              0.4444444444444444,
              "#bd3786"
             ],
             [
              0.5555555555555556,
              "#d8576b"
             ],
             [
              0.6666666666666666,
              "#ed7953"
             ],
             [
              0.7777777777777778,
              "#fb9f3a"
             ],
             [
              0.8888888888888888,
              "#fdca26"
             ],
             [
              1,
              "#f0f921"
             ]
            ],
            "type": "contour"
           }
          ],
          "contourcarpet": [
           {
            "colorbar": {
             "outlinewidth": 0,
             "ticks": ""
            },
            "type": "contourcarpet"
           }
          ],
          "heatmap": [
           {
            "colorbar": {
             "outlinewidth": 0,
             "ticks": ""
            },
            "colorscale": [
             [
              0,
              "#0d0887"
             ],
             [
              0.1111111111111111,
              "#46039f"
             ],
             [
              0.2222222222222222,
              "#7201a8"
             ],
             [
              0.3333333333333333,
              "#9c179e"
             ],
             [
              0.4444444444444444,
              "#bd3786"
             ],
             [
              0.5555555555555556,
              "#d8576b"
             ],
             [
              0.6666666666666666,
              "#ed7953"
             ],
             [
              0.7777777777777778,
              "#fb9f3a"
             ],
             [
              0.8888888888888888,
              "#fdca26"
             ],
             [
              1,
              "#f0f921"
             ]
            ],
            "type": "heatmap"
           }
          ],
          "heatmapgl": [
           {
            "colorbar": {
             "outlinewidth": 0,
             "ticks": ""
            },
            "colorscale": [
             [
              0,
              "#0d0887"
             ],
             [
              0.1111111111111111,
              "#46039f"
             ],
             [
              0.2222222222222222,
              "#7201a8"
             ],
             [
              0.3333333333333333,
              "#9c179e"
             ],
             [
              0.4444444444444444,
              "#bd3786"
             ],
             [
              0.5555555555555556,
              "#d8576b"
             ],
             [
              0.6666666666666666,
              "#ed7953"
             ],
             [
              0.7777777777777778,
              "#fb9f3a"
             ],
             [
              0.8888888888888888,
              "#fdca26"
             ],
             [
              1,
              "#f0f921"
             ]
            ],
            "type": "heatmapgl"
           }
          ],
          "histogram": [
           {
            "marker": {
             "pattern": {
              "fillmode": "overlay",
              "size": 10,
              "solidity": 0.2
             }
            },
            "type": "histogram"
           }
          ],
          "histogram2d": [
           {
            "colorbar": {
             "outlinewidth": 0,
             "ticks": ""
            },
            "colorscale": [
             [
              0,
              "#0d0887"
             ],
             [
              0.1111111111111111,
              "#46039f"
             ],
             [
              0.2222222222222222,
              "#7201a8"
             ],
             [
              0.3333333333333333,
              "#9c179e"
             ],
             [
              0.4444444444444444,
              "#bd3786"
             ],
             [
              0.5555555555555556,
              "#d8576b"
             ],
             [
              0.6666666666666666,
              "#ed7953"
             ],
             [
              0.7777777777777778,
              "#fb9f3a"
             ],
             [
              0.8888888888888888,
              "#fdca26"
             ],
             [
              1,
              "#f0f921"
             ]
            ],
            "type": "histogram2d"
           }
          ],
          "histogram2dcontour": [
           {
            "colorbar": {
             "outlinewidth": 0,
             "ticks": ""
            },
            "colorscale": [
             [
              0,
              "#0d0887"
             ],
             [
              0.1111111111111111,
              "#46039f"
             ],
             [
              0.2222222222222222,
              "#7201a8"
             ],
             [
              0.3333333333333333,
              "#9c179e"
             ],
             [
              0.4444444444444444,
              "#bd3786"
             ],
             [
              0.5555555555555556,
              "#d8576b"
             ],
             [
              0.6666666666666666,
              "#ed7953"
             ],
             [
              0.7777777777777778,
              "#fb9f3a"
             ],
             [
              0.8888888888888888,
              "#fdca26"
             ],
             [
              1,
              "#f0f921"
             ]
            ],
            "type": "histogram2dcontour"
           }
          ],
          "mesh3d": [
           {
            "colorbar": {
             "outlinewidth": 0,
             "ticks": ""
            },
            "type": "mesh3d"
           }
          ],
          "parcoords": [
           {
            "line": {
             "colorbar": {
              "outlinewidth": 0,
              "ticks": ""
             }
            },
            "type": "parcoords"
           }
          ],
          "pie": [
           {
            "automargin": true,
            "type": "pie"
           }
          ],
          "scatter": [
           {
            "fillpattern": {
             "fillmode": "overlay",
             "size": 10,
             "solidity": 0.2
            },
            "type": "scatter"
           }
          ],
          "scatter3d": [
           {
            "line": {
             "colorbar": {
              "outlinewidth": 0,
              "ticks": ""
             }
            },
            "marker": {
             "colorbar": {
              "outlinewidth": 0,
              "ticks": ""
             }
            },
            "type": "scatter3d"
           }
          ],
          "scattercarpet": [
           {
            "marker": {
             "colorbar": {
              "outlinewidth": 0,
              "ticks": ""
             }
            },
            "type": "scattercarpet"
           }
          ],
          "scattergeo": [
           {
            "marker": {
             "colorbar": {
              "outlinewidth": 0,
              "ticks": ""
             }
            },
            "type": "scattergeo"
           }
          ],
          "scattergl": [
           {
            "marker": {
             "colorbar": {
              "outlinewidth": 0,
              "ticks": ""
             }
            },
            "type": "scattergl"
           }
          ],
          "scattermapbox": [
           {
            "marker": {
             "colorbar": {
              "outlinewidth": 0,
              "ticks": ""
             }
            },
            "type": "scattermapbox"
           }
          ],
          "scatterpolar": [
           {
            "marker": {
             "colorbar": {
              "outlinewidth": 0,
              "ticks": ""
             }
            },
            "type": "scatterpolar"
           }
          ],
          "scatterpolargl": [
           {
            "marker": {
             "colorbar": {
              "outlinewidth": 0,
              "ticks": ""
             }
            },
            "type": "scatterpolargl"
           }
          ],
          "scatterternary": [
           {
            "marker": {
             "colorbar": {
              "outlinewidth": 0,
              "ticks": ""
             }
            },
            "type": "scatterternary"
           }
          ],
          "surface": [
           {
            "colorbar": {
             "outlinewidth": 0,
             "ticks": ""
            },
            "colorscale": [
             [
              0,
              "#0d0887"
             ],
             [
              0.1111111111111111,
              "#46039f"
             ],
             [
              0.2222222222222222,
              "#7201a8"
             ],
             [
              0.3333333333333333,
              "#9c179e"
             ],
             [
              0.4444444444444444,
              "#bd3786"
             ],
             [
              0.5555555555555556,
              "#d8576b"
             ],
             [
              0.6666666666666666,
              "#ed7953"
             ],
             [
              0.7777777777777778,
              "#fb9f3a"
             ],
             [
              0.8888888888888888,
              "#fdca26"
             ],
             [
              1,
              "#f0f921"
             ]
            ],
            "type": "surface"
           }
          ],
          "table": [
           {
            "cells": {
             "fill": {
              "color": "#EBF0F8"
             },
             "line": {
              "color": "white"
             }
            },
            "header": {
             "fill": {
              "color": "#C8D4E3"
             },
             "line": {
              "color": "white"
             }
            },
            "type": "table"
           }
          ]
         },
         "layout": {
          "annotationdefaults": {
           "arrowcolor": "#2a3f5f",
           "arrowhead": 0,
           "arrowwidth": 1
          },
          "autotypenumbers": "strict",
          "coloraxis": {
           "colorbar": {
            "outlinewidth": 0,
            "ticks": ""
           }
          },
          "colorscale": {
           "diverging": [
            [
             0,
             "#8e0152"
            ],
            [
             0.1,
             "#c51b7d"
            ],
            [
             0.2,
             "#de77ae"
            ],
            [
             0.3,
             "#f1b6da"
            ],
            [
             0.4,
             "#fde0ef"
            ],
            [
             0.5,
             "#f7f7f7"
            ],
            [
             0.6,
             "#e6f5d0"
            ],
            [
             0.7,
             "#b8e186"
            ],
            [
             0.8,
             "#7fbc41"
            ],
            [
             0.9,
             "#4d9221"
            ],
            [
             1,
             "#276419"
            ]
           ],
           "sequential": [
            [
             0,
             "#0d0887"
            ],
            [
             0.1111111111111111,
             "#46039f"
            ],
            [
             0.2222222222222222,
             "#7201a8"
            ],
            [
             0.3333333333333333,
             "#9c179e"
            ],
            [
             0.4444444444444444,
             "#bd3786"
            ],
            [
             0.5555555555555556,
             "#d8576b"
            ],
            [
             0.6666666666666666,
             "#ed7953"
            ],
            [
             0.7777777777777778,
             "#fb9f3a"
            ],
            [
             0.8888888888888888,
             "#fdca26"
            ],
            [
             1,
             "#f0f921"
            ]
           ],
           "sequentialminus": [
            [
             0,
             "#0d0887"
            ],
            [
             0.1111111111111111,
             "#46039f"
            ],
            [
             0.2222222222222222,
             "#7201a8"
            ],
            [
             0.3333333333333333,
             "#9c179e"
            ],
            [
             0.4444444444444444,
             "#bd3786"
            ],
            [
             0.5555555555555556,
             "#d8576b"
            ],
            [
             0.6666666666666666,
             "#ed7953"
            ],
            [
             0.7777777777777778,
             "#fb9f3a"
            ],
            [
             0.8888888888888888,
             "#fdca26"
            ],
            [
             1,
             "#f0f921"
            ]
           ]
          },
          "colorway": [
           "#636efa",
           "#EF553B",
           "#00cc96",
           "#ab63fa",
           "#FFA15A",
           "#19d3f3",
           "#FF6692",
           "#B6E880",
           "#FF97FF",
           "#FECB52"
          ],
          "font": {
           "color": "#2a3f5f"
          },
          "geo": {
           "bgcolor": "white",
           "lakecolor": "white",
           "landcolor": "white",
           "showlakes": true,
           "showland": true,
           "subunitcolor": "#C8D4E3"
          },
          "hoverlabel": {
           "align": "left"
          },
          "hovermode": "closest",
          "mapbox": {
           "style": "light"
          },
          "paper_bgcolor": "white",
          "plot_bgcolor": "white",
          "polar": {
           "angularaxis": {
            "gridcolor": "#EBF0F8",
            "linecolor": "#EBF0F8",
            "ticks": ""
           },
           "bgcolor": "white",
           "radialaxis": {
            "gridcolor": "#EBF0F8",
            "linecolor": "#EBF0F8",
            "ticks": ""
           }
          },
          "scene": {
           "xaxis": {
            "backgroundcolor": "white",
            "gridcolor": "#DFE8F3",
            "gridwidth": 2,
            "linecolor": "#EBF0F8",
            "showbackground": true,
            "ticks": "",
            "zerolinecolor": "#EBF0F8"
           },
           "yaxis": {
            "backgroundcolor": "white",
            "gridcolor": "#DFE8F3",
            "gridwidth": 2,
            "linecolor": "#EBF0F8",
            "showbackground": true,
            "ticks": "",
            "zerolinecolor": "#EBF0F8"
           },
           "zaxis": {
            "backgroundcolor": "white",
            "gridcolor": "#DFE8F3",
            "gridwidth": 2,
            "linecolor": "#EBF0F8",
            "showbackground": true,
            "ticks": "",
            "zerolinecolor": "#EBF0F8"
           }
          },
          "shapedefaults": {
           "line": {
            "color": "#2a3f5f"
           }
          },
          "ternary": {
           "aaxis": {
            "gridcolor": "#DFE8F3",
            "linecolor": "#A2B1C6",
            "ticks": ""
           },
           "baxis": {
            "gridcolor": "#DFE8F3",
            "linecolor": "#A2B1C6",
            "ticks": ""
           },
           "bgcolor": "white",
           "caxis": {
            "gridcolor": "#DFE8F3",
            "linecolor": "#A2B1C6",
            "ticks": ""
           }
          },
          "title": {
           "x": 0.05
          },
          "xaxis": {
           "automargin": true,
           "gridcolor": "#EBF0F8",
           "linecolor": "#EBF0F8",
           "ticks": "",
           "title": {
            "standoff": 15
           },
           "zerolinecolor": "#EBF0F8",
           "zerolinewidth": 2
          },
          "yaxis": {
           "automargin": true,
           "gridcolor": "#EBF0F8",
           "linecolor": "#EBF0F8",
           "ticks": "",
           "title": {
            "standoff": 15
           },
           "zerolinecolor": "#EBF0F8",
           "zerolinewidth": 2
          }
         }
        },
        "title": {
         "font": {
          "color": "Black",
          "size": 22
         },
         "text": "Topic Word Scores",
         "x": 0.5,
         "xanchor": "center",
         "yanchor": "top"
        },
        "width": 1000,
        "xaxis": {
         "anchor": "y",
         "domain": [
          0,
          0.175
         ],
         "showgrid": true
        },
        "xaxis2": {
         "anchor": "y2",
         "domain": [
          0.275,
          0.45
         ],
         "showgrid": true
        },
        "xaxis3": {
         "anchor": "y3",
         "domain": [
          0.55,
          0.7250000000000001
         ],
         "showgrid": true
        },
        "xaxis4": {
         "anchor": "y4",
         "domain": [
          0.825,
          1
         ],
         "showgrid": true
        },
        "xaxis5": {
         "anchor": "y5",
         "domain": [
          0,
          0.175
         ],
         "showgrid": true
        },
        "xaxis6": {
         "anchor": "y6",
         "domain": [
          0.275,
          0.45
         ],
         "showgrid": true
        },
        "xaxis7": {
         "anchor": "y7",
         "domain": [
          0.55,
          0.7250000000000001
         ],
         "showgrid": true
        },
        "xaxis8": {
         "anchor": "y8",
         "domain": [
          0.825,
          1
         ],
         "showgrid": true
        },
        "yaxis": {
         "anchor": "x",
         "domain": [
          0.6000000000000001,
          1
         ],
         "showgrid": true
        },
        "yaxis2": {
         "anchor": "x2",
         "domain": [
          0.6000000000000001,
          1
         ],
         "showgrid": true
        },
        "yaxis3": {
         "anchor": "x3",
         "domain": [
          0.6000000000000001,
          1
         ],
         "showgrid": true
        },
        "yaxis4": {
         "anchor": "x4",
         "domain": [
          0.6000000000000001,
          1
         ],
         "showgrid": true
        },
        "yaxis5": {
         "anchor": "x5",
         "domain": [
          0,
          0.4
         ],
         "showgrid": true
        },
        "yaxis6": {
         "anchor": "x6",
         "domain": [
          0,
          0.4
         ],
         "showgrid": true
        },
        "yaxis7": {
         "anchor": "x7",
         "domain": [
          0,
          0.4
         ],
         "showgrid": true
        },
        "yaxis8": {
         "anchor": "x8",
         "domain": [
          0,
          0.4
         ],
         "showgrid": true
        }
       }
      }
     },
     "metadata": {},
     "output_type": "display_data"
    }
   ],
   "source": [
    "topic_3"
   ]
  },
  {
   "cell_type": "code",
   "execution_count": 25,
   "metadata": {},
   "outputs": [],
   "source": [
    "topic_2=model.visualize_barchart()"
   ]
  },
  {
   "cell_type": "code",
   "execution_count": 33,
   "metadata": {},
   "outputs": [
    {
     "data": {
      "application/vnd.plotly.v1+json": {
       "config": {
        "plotlyServerURL": "https://plot.ly"
       },
       "data": [
        {
         "marker": {
          "color": "#D55E00"
         },
         "orientation": "h",
         "type": "bar",
         "x": [
          0.004117277663220912,
          0.004233691479044759,
          0.004362320185959899,
          0.0044219831565470505,
          0.004951907191223624
         ],
         "xaxis": "x",
         "y": [
          "like  ",
          "said  ",
          "could  ",
          "eyes  ",
          "back  "
         ],
         "yaxis": "y"
        },
        {
         "marker": {
          "color": "#0072B2"
         },
         "orientation": "h",
         "type": "bar",
         "x": [
          0.004282847922038764,
          0.004345600354819274,
          0.004635468984139965,
          0.004708343153046749,
          0.0049679028582534845
         ],
         "xaxis": "x2",
         "y": [
          "back  ",
          "could  ",
          "house  ",
          "one  ",
          "like  "
         ],
         "yaxis": "y2"
        },
        {
         "marker": {
          "color": "#CC79A7"
         },
         "orientation": "h",
         "type": "bar",
         "x": [
          0.009661266551548335,
          0.009722356609951391,
          0.010357496643944452,
          0.012417793456990662,
          0.021122217509884553
         ],
         "xaxis": "x3",
         "y": [
          "door  ",
          "538  ",
          "object  ",
          "ask  ",
          "holder  "
         ],
         "yaxis": "y3"
        },
        {
         "marker": {
          "color": "#E69F00"
         },
         "orientation": "h",
         "type": "bar",
         "x": [
          0.0045403881841125674,
          0.00464134013105153,
          0.0050443674002485376,
          0.005097661165724261,
          0.005299925565844209
         ],
         "xaxis": "x4",
         "y": [
          "like  ",
          "one  ",
          "forest  ",
          "woods  ",
          "back  "
         ],
         "yaxis": "y4"
        },
        {
         "marker": {
          "color": "#56B4E9"
         },
         "orientation": "h",
         "type": "bar",
         "x": [
          0.004649873618224241,
          0.005184559591931111,
          0.005721989399786548,
          0.007985473567433387,
          0.012478670996205535
         ],
         "xaxis": "x5",
         "y": [
          "eyes  ",
          "could  ",
          "like  ",
          "dreams  ",
          "dream  "
         ],
         "yaxis": "y5"
        },
        {
         "marker": {
          "color": "#009E73"
         },
         "orientation": "h",
         "type": "bar",
         "x": [
          0.004740704058170683,
          0.004784837019383834,
          0.007192404333329851,
          0.007809524425918993,
          0.010853415885866937
         ],
         "xaxis": "x6",
         "y": [
          "back  ",
          "one  ",
          "door  ",
          "room  ",
          "house  "
         ],
         "yaxis": "y6"
        },
        {
         "marker": {
          "color": "#F0E442"
         },
         "orientation": "h",
         "type": "bar",
         "x": [
          0.0055522278070796495,
          0.006224295707195032,
          0.008453113109346374,
          0.008660756121673108,
          0.027569465032083344
         ],
         "xaxis": "x7",
         "y": [
          "mario  ",
          "player  ",
          "screen  ",
          "games  ",
          "game  "
         ],
         "yaxis": "y7"
        },
        {
         "marker": {
          "color": "#D55E00"
         },
         "orientation": "h",
         "type": "bar",
         "x": [
          0.005248952495607092,
          0.005300164380326973,
          0.005309065908384126,
          0.005425457827484339,
          0.005707659922462654
         ],
         "xaxis": "x8",
         "y": [
          "felt  ",
          "eyes  ",
          "could  ",
          "back  ",
          "like  "
         ],
         "yaxis": "y8"
        }
       ],
       "layout": {
        "annotations": [
         {
          "font": {
           "size": 16
          },
          "showarrow": false,
          "text": "Topic 0",
          "x": 0.0875,
          "xanchor": "center",
          "xref": "paper",
          "y": 1,
          "yanchor": "bottom",
          "yref": "paper"
         },
         {
          "font": {
           "size": 16
          },
          "showarrow": false,
          "text": "Topic 1",
          "x": 0.36250000000000004,
          "xanchor": "center",
          "xref": "paper",
          "y": 1,
          "yanchor": "bottom",
          "yref": "paper"
         },
         {
          "font": {
           "size": 16
          },
          "showarrow": false,
          "text": "Topic 2",
          "x": 0.6375000000000001,
          "xanchor": "center",
          "xref": "paper",
          "y": 1,
          "yanchor": "bottom",
          "yref": "paper"
         },
         {
          "font": {
           "size": 16
          },
          "showarrow": false,
          "text": "Topic 3",
          "x": 0.9125,
          "xanchor": "center",
          "xref": "paper",
          "y": 1,
          "yanchor": "bottom",
          "yref": "paper"
         },
         {
          "font": {
           "size": 16
          },
          "showarrow": false,
          "text": "Topic 4",
          "x": 0.0875,
          "xanchor": "center",
          "xref": "paper",
          "y": 0.4,
          "yanchor": "bottom",
          "yref": "paper"
         },
         {
          "font": {
           "size": 16
          },
          "showarrow": false,
          "text": "Topic 5",
          "x": 0.36250000000000004,
          "xanchor": "center",
          "xref": "paper",
          "y": 0.4,
          "yanchor": "bottom",
          "yref": "paper"
         },
         {
          "font": {
           "size": 16
          },
          "showarrow": false,
          "text": "Topic 6",
          "x": 0.6375000000000001,
          "xanchor": "center",
          "xref": "paper",
          "y": 0.4,
          "yanchor": "bottom",
          "yref": "paper"
         },
         {
          "font": {
           "size": 16
          },
          "showarrow": false,
          "text": "Topic 7",
          "x": 0.9125,
          "xanchor": "center",
          "xref": "paper",
          "y": 0.4,
          "yanchor": "bottom",
          "yref": "paper"
         }
        ],
        "height": 500,
        "hoverlabel": {
         "bgcolor": "white",
         "font": {
          "family": "Rockwell",
          "size": 16
         }
        },
        "showlegend": false,
        "template": {
         "data": {
          "bar": [
           {
            "error_x": {
             "color": "#2a3f5f"
            },
            "error_y": {
             "color": "#2a3f5f"
            },
            "marker": {
             "line": {
              "color": "white",
              "width": 0.5
             },
             "pattern": {
              "fillmode": "overlay",
              "size": 10,
              "solidity": 0.2
             }
            },
            "type": "bar"
           }
          ],
          "barpolar": [
           {
            "marker": {
             "line": {
              "color": "white",
              "width": 0.5
             },
             "pattern": {
              "fillmode": "overlay",
              "size": 10,
              "solidity": 0.2
             }
            },
            "type": "barpolar"
           }
          ],
          "carpet": [
           {
            "aaxis": {
             "endlinecolor": "#2a3f5f",
             "gridcolor": "#C8D4E3",
             "linecolor": "#C8D4E3",
             "minorgridcolor": "#C8D4E3",
             "startlinecolor": "#2a3f5f"
            },
            "baxis": {
             "endlinecolor": "#2a3f5f",
             "gridcolor": "#C8D4E3",
             "linecolor": "#C8D4E3",
             "minorgridcolor": "#C8D4E3",
             "startlinecolor": "#2a3f5f"
            },
            "type": "carpet"
           }
          ],
          "choropleth": [
           {
            "colorbar": {
             "outlinewidth": 0,
             "ticks": ""
            },
            "type": "choropleth"
           }
          ],
          "contour": [
           {
            "colorbar": {
             "outlinewidth": 0,
             "ticks": ""
            },
            "colorscale": [
             [
              0,
              "#0d0887"
             ],
             [
              0.1111111111111111,
              "#46039f"
             ],
             [
              0.2222222222222222,
              "#7201a8"
             ],
             [
              0.3333333333333333,
              "#9c179e"
             ],
             [
              0.4444444444444444,
              "#bd3786"
             ],
             [
              0.5555555555555556,
              "#d8576b"
             ],
             [
              0.6666666666666666,
              "#ed7953"
             ],
             [
              0.7777777777777778,
              "#fb9f3a"
             ],
             [
              0.8888888888888888,
              "#fdca26"
             ],
             [
              1,
              "#f0f921"
             ]
            ],
            "type": "contour"
           }
          ],
          "contourcarpet": [
           {
            "colorbar": {
             "outlinewidth": 0,
             "ticks": ""
            },
            "type": "contourcarpet"
           }
          ],
          "heatmap": [
           {
            "colorbar": {
             "outlinewidth": 0,
             "ticks": ""
            },
            "colorscale": [
             [
              0,
              "#0d0887"
             ],
             [
              0.1111111111111111,
              "#46039f"
             ],
             [
              0.2222222222222222,
              "#7201a8"
             ],
             [
              0.3333333333333333,
              "#9c179e"
             ],
             [
              0.4444444444444444,
              "#bd3786"
             ],
             [
              0.5555555555555556,
              "#d8576b"
             ],
             [
              0.6666666666666666,
              "#ed7953"
             ],
             [
              0.7777777777777778,
              "#fb9f3a"
             ],
             [
              0.8888888888888888,
              "#fdca26"
             ],
             [
              1,
              "#f0f921"
             ]
            ],
            "type": "heatmap"
           }
          ],
          "heatmapgl": [
           {
            "colorbar": {
             "outlinewidth": 0,
             "ticks": ""
            },
            "colorscale": [
             [
              0,
              "#0d0887"
             ],
             [
              0.1111111111111111,
              "#46039f"
             ],
             [
              0.2222222222222222,
              "#7201a8"
             ],
             [
              0.3333333333333333,
              "#9c179e"
             ],
             [
              0.4444444444444444,
              "#bd3786"
             ],
             [
              0.5555555555555556,
              "#d8576b"
             ],
             [
              0.6666666666666666,
              "#ed7953"
             ],
             [
              0.7777777777777778,
              "#fb9f3a"
             ],
             [
              0.8888888888888888,
              "#fdca26"
             ],
             [
              1,
              "#f0f921"
             ]
            ],
            "type": "heatmapgl"
           }
          ],
          "histogram": [
           {
            "marker": {
             "pattern": {
              "fillmode": "overlay",
              "size": 10,
              "solidity": 0.2
             }
            },
            "type": "histogram"
           }
          ],
          "histogram2d": [
           {
            "colorbar": {
             "outlinewidth": 0,
             "ticks": ""
            },
            "colorscale": [
             [
              0,
              "#0d0887"
             ],
             [
              0.1111111111111111,
              "#46039f"
             ],
             [
              0.2222222222222222,
              "#7201a8"
             ],
             [
              0.3333333333333333,
              "#9c179e"
             ],
             [
              0.4444444444444444,
              "#bd3786"
             ],
             [
              0.5555555555555556,
              "#d8576b"
             ],
             [
              0.6666666666666666,
              "#ed7953"
             ],
             [
              0.7777777777777778,
              "#fb9f3a"
             ],
             [
              0.8888888888888888,
              "#fdca26"
             ],
             [
              1,
              "#f0f921"
             ]
            ],
            "type": "histogram2d"
           }
          ],
          "histogram2dcontour": [
           {
            "colorbar": {
             "outlinewidth": 0,
             "ticks": ""
            },
            "colorscale": [
             [
              0,
              "#0d0887"
             ],
             [
              0.1111111111111111,
              "#46039f"
             ],
             [
              0.2222222222222222,
              "#7201a8"
             ],
             [
              0.3333333333333333,
              "#9c179e"
             ],
             [
              0.4444444444444444,
              "#bd3786"
             ],
             [
              0.5555555555555556,
              "#d8576b"
             ],
             [
              0.6666666666666666,
              "#ed7953"
             ],
             [
              0.7777777777777778,
              "#fb9f3a"
             ],
             [
              0.8888888888888888,
              "#fdca26"
             ],
             [
              1,
              "#f0f921"
             ]
            ],
            "type": "histogram2dcontour"
           }
          ],
          "mesh3d": [
           {
            "colorbar": {
             "outlinewidth": 0,
             "ticks": ""
            },
            "type": "mesh3d"
           }
          ],
          "parcoords": [
           {
            "line": {
             "colorbar": {
              "outlinewidth": 0,
              "ticks": ""
             }
            },
            "type": "parcoords"
           }
          ],
          "pie": [
           {
            "automargin": true,
            "type": "pie"
           }
          ],
          "scatter": [
           {
            "fillpattern": {
             "fillmode": "overlay",
             "size": 10,
             "solidity": 0.2
            },
            "type": "scatter"
           }
          ],
          "scatter3d": [
           {
            "line": {
             "colorbar": {
              "outlinewidth": 0,
              "ticks": ""
             }
            },
            "marker": {
             "colorbar": {
              "outlinewidth": 0,
              "ticks": ""
             }
            },
            "type": "scatter3d"
           }
          ],
          "scattercarpet": [
           {
            "marker": {
             "colorbar": {
              "outlinewidth": 0,
              "ticks": ""
             }
            },
            "type": "scattercarpet"
           }
          ],
          "scattergeo": [
           {
            "marker": {
             "colorbar": {
              "outlinewidth": 0,
              "ticks": ""
             }
            },
            "type": "scattergeo"
           }
          ],
          "scattergl": [
           {
            "marker": {
             "colorbar": {
              "outlinewidth": 0,
              "ticks": ""
             }
            },
            "type": "scattergl"
           }
          ],
          "scattermapbox": [
           {
            "marker": {
             "colorbar": {
              "outlinewidth": 0,
              "ticks": ""
             }
            },
            "type": "scattermapbox"
           }
          ],
          "scatterpolar": [
           {
            "marker": {
             "colorbar": {
              "outlinewidth": 0,
              "ticks": ""
             }
            },
            "type": "scatterpolar"
           }
          ],
          "scatterpolargl": [
           {
            "marker": {
             "colorbar": {
              "outlinewidth": 0,
              "ticks": ""
             }
            },
            "type": "scatterpolargl"
           }
          ],
          "scatterternary": [
           {
            "marker": {
             "colorbar": {
              "outlinewidth": 0,
              "ticks": ""
             }
            },
            "type": "scatterternary"
           }
          ],
          "surface": [
           {
            "colorbar": {
             "outlinewidth": 0,
             "ticks": ""
            },
            "colorscale": [
             [
              0,
              "#0d0887"
             ],
             [
              0.1111111111111111,
              "#46039f"
             ],
             [
              0.2222222222222222,
              "#7201a8"
             ],
             [
              0.3333333333333333,
              "#9c179e"
             ],
             [
              0.4444444444444444,
              "#bd3786"
             ],
             [
              0.5555555555555556,
              "#d8576b"
             ],
             [
              0.6666666666666666,
              "#ed7953"
             ],
             [
              0.7777777777777778,
              "#fb9f3a"
             ],
             [
              0.8888888888888888,
              "#fdca26"
             ],
             [
              1,
              "#f0f921"
             ]
            ],
            "type": "surface"
           }
          ],
          "table": [
           {
            "cells": {
             "fill": {
              "color": "#EBF0F8"
             },
             "line": {
              "color": "white"
             }
            },
            "header": {
             "fill": {
              "color": "#C8D4E3"
             },
             "line": {
              "color": "white"
             }
            },
            "type": "table"
           }
          ]
         },
         "layout": {
          "annotationdefaults": {
           "arrowcolor": "#2a3f5f",
           "arrowhead": 0,
           "arrowwidth": 1
          },
          "autotypenumbers": "strict",
          "coloraxis": {
           "colorbar": {
            "outlinewidth": 0,
            "ticks": ""
           }
          },
          "colorscale": {
           "diverging": [
            [
             0,
             "#8e0152"
            ],
            [
             0.1,
             "#c51b7d"
            ],
            [
             0.2,
             "#de77ae"
            ],
            [
             0.3,
             "#f1b6da"
            ],
            [
             0.4,
             "#fde0ef"
            ],
            [
             0.5,
             "#f7f7f7"
            ],
            [
             0.6,
             "#e6f5d0"
            ],
            [
             0.7,
             "#b8e186"
            ],
            [
             0.8,
             "#7fbc41"
            ],
            [
             0.9,
             "#4d9221"
            ],
            [
             1,
             "#276419"
            ]
           ],
           "sequential": [
            [
             0,
             "#0d0887"
            ],
            [
             0.1111111111111111,
             "#46039f"
            ],
            [
             0.2222222222222222,
             "#7201a8"
            ],
            [
             0.3333333333333333,
             "#9c179e"
            ],
            [
             0.4444444444444444,
             "#bd3786"
            ],
            [
             0.5555555555555556,
             "#d8576b"
            ],
            [
             0.6666666666666666,
             "#ed7953"
            ],
            [
             0.7777777777777778,
             "#fb9f3a"
            ],
            [
             0.8888888888888888,
             "#fdca26"
            ],
            [
             1,
             "#f0f921"
            ]
           ],
           "sequentialminus": [
            [
             0,
             "#0d0887"
            ],
            [
             0.1111111111111111,
             "#46039f"
            ],
            [
             0.2222222222222222,
             "#7201a8"
            ],
            [
             0.3333333333333333,
             "#9c179e"
            ],
            [
             0.4444444444444444,
             "#bd3786"
            ],
            [
             0.5555555555555556,
             "#d8576b"
            ],
            [
             0.6666666666666666,
             "#ed7953"
            ],
            [
             0.7777777777777778,
             "#fb9f3a"
            ],
            [
             0.8888888888888888,
             "#fdca26"
            ],
            [
             1,
             "#f0f921"
            ]
           ]
          },
          "colorway": [
           "#636efa",
           "#EF553B",
           "#00cc96",
           "#ab63fa",
           "#FFA15A",
           "#19d3f3",
           "#FF6692",
           "#B6E880",
           "#FF97FF",
           "#FECB52"
          ],
          "font": {
           "color": "#2a3f5f"
          },
          "geo": {
           "bgcolor": "white",
           "lakecolor": "white",
           "landcolor": "white",
           "showlakes": true,
           "showland": true,
           "subunitcolor": "#C8D4E3"
          },
          "hoverlabel": {
           "align": "left"
          },
          "hovermode": "closest",
          "mapbox": {
           "style": "light"
          },
          "paper_bgcolor": "white",
          "plot_bgcolor": "white",
          "polar": {
           "angularaxis": {
            "gridcolor": "#EBF0F8",
            "linecolor": "#EBF0F8",
            "ticks": ""
           },
           "bgcolor": "white",
           "radialaxis": {
            "gridcolor": "#EBF0F8",
            "linecolor": "#EBF0F8",
            "ticks": ""
           }
          },
          "scene": {
           "xaxis": {
            "backgroundcolor": "white",
            "gridcolor": "#DFE8F3",
            "gridwidth": 2,
            "linecolor": "#EBF0F8",
            "showbackground": true,
            "ticks": "",
            "zerolinecolor": "#EBF0F8"
           },
           "yaxis": {
            "backgroundcolor": "white",
            "gridcolor": "#DFE8F3",
            "gridwidth": 2,
            "linecolor": "#EBF0F8",
            "showbackground": true,
            "ticks": "",
            "zerolinecolor": "#EBF0F8"
           },
           "zaxis": {
            "backgroundcolor": "white",
            "gridcolor": "#DFE8F3",
            "gridwidth": 2,
            "linecolor": "#EBF0F8",
            "showbackground": true,
            "ticks": "",
            "zerolinecolor": "#EBF0F8"
           }
          },
          "shapedefaults": {
           "line": {
            "color": "#2a3f5f"
           }
          },
          "ternary": {
           "aaxis": {
            "gridcolor": "#DFE8F3",
            "linecolor": "#A2B1C6",
            "ticks": ""
           },
           "baxis": {
            "gridcolor": "#DFE8F3",
            "linecolor": "#A2B1C6",
            "ticks": ""
           },
           "bgcolor": "white",
           "caxis": {
            "gridcolor": "#DFE8F3",
            "linecolor": "#A2B1C6",
            "ticks": ""
           }
          },
          "title": {
           "x": 0.05
          },
          "xaxis": {
           "automargin": true,
           "gridcolor": "#EBF0F8",
           "linecolor": "#EBF0F8",
           "ticks": "",
           "title": {
            "standoff": 15
           },
           "zerolinecolor": "#EBF0F8",
           "zerolinewidth": 2
          },
          "yaxis": {
           "automargin": true,
           "gridcolor": "#EBF0F8",
           "linecolor": "#EBF0F8",
           "ticks": "",
           "title": {
            "standoff": 15
           },
           "zerolinecolor": "#EBF0F8",
           "zerolinewidth": 2
          }
         }
        },
        "title": {
         "font": {
          "color": "Black",
          "size": 22
         },
         "text": "Topic Word Scores",
         "x": 0.5,
         "xanchor": "center",
         "yanchor": "top"
        },
        "width": 1000,
        "xaxis": {
         "anchor": "y",
         "domain": [
          0,
          0.175
         ],
         "showgrid": true
        },
        "xaxis2": {
         "anchor": "y2",
         "domain": [
          0.275,
          0.45
         ],
         "showgrid": true
        },
        "xaxis3": {
         "anchor": "y3",
         "domain": [
          0.55,
          0.7250000000000001
         ],
         "showgrid": true
        },
        "xaxis4": {
         "anchor": "y4",
         "domain": [
          0.825,
          1
         ],
         "showgrid": true
        },
        "xaxis5": {
         "anchor": "y5",
         "domain": [
          0,
          0.175
         ],
         "showgrid": true
        },
        "xaxis6": {
         "anchor": "y6",
         "domain": [
          0.275,
          0.45
         ],
         "showgrid": true
        },
        "xaxis7": {
         "anchor": "y7",
         "domain": [
          0.55,
          0.7250000000000001
         ],
         "showgrid": true
        },
        "xaxis8": {
         "anchor": "y8",
         "domain": [
          0.825,
          1
         ],
         "showgrid": true
        },
        "yaxis": {
         "anchor": "x",
         "domain": [
          0.6000000000000001,
          1
         ],
         "showgrid": true
        },
        "yaxis2": {
         "anchor": "x2",
         "domain": [
          0.6000000000000001,
          1
         ],
         "showgrid": true
        },
        "yaxis3": {
         "anchor": "x3",
         "domain": [
          0.6000000000000001,
          1
         ],
         "showgrid": true
        },
        "yaxis4": {
         "anchor": "x4",
         "domain": [
          0.6000000000000001,
          1
         ],
         "showgrid": true
        },
        "yaxis5": {
         "anchor": "x5",
         "domain": [
          0,
          0.4
         ],
         "showgrid": true
        },
        "yaxis6": {
         "anchor": "x6",
         "domain": [
          0,
          0.4
         ],
         "showgrid": true
        },
        "yaxis7": {
         "anchor": "x7",
         "domain": [
          0,
          0.4
         ],
         "showgrid": true
        },
        "yaxis8": {
         "anchor": "x8",
         "domain": [
          0,
          0.4
         ],
         "showgrid": true
        }
       }
      }
     },
     "metadata": {},
     "output_type": "display_data"
    }
   ],
   "source": [
    "topic_2\n"
   ]
  },
  {
   "cell_type": "code",
   "execution_count": 12,
   "metadata": {},
   "outputs": [],
   "source": [
    "topic_1=model.visualize_barchart()"
   ]
  },
  {
   "cell_type": "code",
   "execution_count": 34,
   "metadata": {},
   "outputs": [
    {
     "data": {
      "application/vnd.plotly.v1+json": {
       "config": {
        "plotlyServerURL": "https://plot.ly"
       },
       "data": [
        {
         "marker": {
          "color": "#D55E00"
         },
         "orientation": "h",
         "type": "bar",
         "x": [
          0.0040857523395422,
          0.004372711687132254,
          0.004625635776700915,
          0.004821888722134389,
          0.0052688813810719635
         ],
         "xaxis": "x",
         "y": [
          "looked  ",
          "door  ",
          "like  ",
          "eyes  ",
          "said  "
         ],
         "yaxis": "y"
        },
        {
         "marker": {
          "color": "#0072B2"
         },
         "orientation": "h",
         "type": "bar",
         "x": [
          0.004474291867906034,
          0.00469791145643365,
          0.004718151281714231,
          0.005218743550924467,
          0.005547768746382161
         ],
         "xaxis": "x2",
         "y": [
          "room  ",
          "said  ",
          "told  ",
          "like  ",
          "didnt  "
         ],
         "yaxis": "y2"
        },
        {
         "marker": {
          "color": "#CC79A7"
         },
         "orientation": "h",
         "type": "bar",
         "x": [
          0.004391795964499936,
          0.004558000885863989,
          0.004589887339723802,
          0.005372107423498024,
          0.0071477007667538825
         ],
         "xaxis": "x3",
         "y": [
          "like  ",
          "john  ",
          "eyes  ",
          "man  ",
          "lincoln  "
         ],
         "yaxis": "y3"
        },
        {
         "marker": {
          "color": "#E69F00"
         },
         "orientation": "h",
         "type": "bar",
         "x": [
          0.00418175111257491,
          0.004584821496412639,
          0.005096869890076929,
          0.005371517143766578,
          0.005475891392392577
         ],
         "xaxis": "x4",
         "y": [
          "trees  ",
          "tree  ",
          "like  ",
          "forest  ",
          "woods  "
         ],
         "yaxis": "y4"
        },
        {
         "marker": {
          "color": "#56B4E9"
         },
         "orientation": "h",
         "type": "bar",
         "x": [
          0.009851941921455859,
          0.009865172885406063,
          0.010493737647718372,
          0.012561780070954518,
          0.02153809466872205
         ],
         "xaxis": "x5",
         "y": [
          "door  ",
          "538  ",
          "object  ",
          "ask  ",
          "holder  "
         ],
         "yaxis": "y5"
        },
        {
         "marker": {
          "color": "#009E73"
         },
         "orientation": "h",
         "type": "bar",
         "x": [
          0.004496627309174986,
          0.00463230381294745,
          0.005206554197337542,
          0.005307837251098245,
          0.0057268483781620335
         ],
         "xaxis": "x6",
         "y": [
          "door  ",
          "room  ",
          "eyes  ",
          "felt  ",
          "like  "
         ],
         "yaxis": "y6"
        },
        {
         "marker": {
          "color": "#F0E442"
         },
         "orientation": "h",
         "type": "bar",
         "x": [
          0.004905296637616773,
          0.004999729602365006,
          0.006384153434095924,
          0.009544585825566715,
          0.01435312049963642
         ],
         "xaxis": "x7",
         "y": [
          "time  ",
          "im  ",
          "like  ",
          "dreams  ",
          "dream  "
         ],
         "yaxis": "y7"
        },
        {
         "marker": {
          "color": "#D55E00"
         },
         "orientation": "h",
         "type": "bar",
         "x": [
          0.0038781308490424544,
          0.0044747874867198745,
          0.004645405349025436,
          0.004774014634631163,
          0.005603529803619589
         ],
         "xaxis": "x8",
         "y": [
          "thee  ",
          "stylemsospacerunyes  ",
          "shall  ",
          "thou  ",
          "thy  "
         ],
         "yaxis": "y8"
        }
       ],
       "layout": {
        "annotations": [
         {
          "font": {
           "size": 16
          },
          "showarrow": false,
          "text": "Topic 0",
          "x": 0.0875,
          "xanchor": "center",
          "xref": "paper",
          "y": 1,
          "yanchor": "bottom",
          "yref": "paper"
         },
         {
          "font": {
           "size": 16
          },
          "showarrow": false,
          "text": "Topic 1",
          "x": 0.36250000000000004,
          "xanchor": "center",
          "xref": "paper",
          "y": 1,
          "yanchor": "bottom",
          "yref": "paper"
         },
         {
          "font": {
           "size": 16
          },
          "showarrow": false,
          "text": "Topic 2",
          "x": 0.6375000000000001,
          "xanchor": "center",
          "xref": "paper",
          "y": 1,
          "yanchor": "bottom",
          "yref": "paper"
         },
         {
          "font": {
           "size": 16
          },
          "showarrow": false,
          "text": "Topic 3",
          "x": 0.9125,
          "xanchor": "center",
          "xref": "paper",
          "y": 1,
          "yanchor": "bottom",
          "yref": "paper"
         },
         {
          "font": {
           "size": 16
          },
          "showarrow": false,
          "text": "Topic 4",
          "x": 0.0875,
          "xanchor": "center",
          "xref": "paper",
          "y": 0.4,
          "yanchor": "bottom",
          "yref": "paper"
         },
         {
          "font": {
           "size": 16
          },
          "showarrow": false,
          "text": "Topic 5",
          "x": 0.36250000000000004,
          "xanchor": "center",
          "xref": "paper",
          "y": 0.4,
          "yanchor": "bottom",
          "yref": "paper"
         },
         {
          "font": {
           "size": 16
          },
          "showarrow": false,
          "text": "Topic 6",
          "x": 0.6375000000000001,
          "xanchor": "center",
          "xref": "paper",
          "y": 0.4,
          "yanchor": "bottom",
          "yref": "paper"
         },
         {
          "font": {
           "size": 16
          },
          "showarrow": false,
          "text": "Topic 7",
          "x": 0.9125,
          "xanchor": "center",
          "xref": "paper",
          "y": 0.4,
          "yanchor": "bottom",
          "yref": "paper"
         }
        ],
        "height": 500,
        "hoverlabel": {
         "bgcolor": "white",
         "font": {
          "family": "Rockwell",
          "size": 16
         }
        },
        "showlegend": false,
        "template": {
         "data": {
          "bar": [
           {
            "error_x": {
             "color": "#2a3f5f"
            },
            "error_y": {
             "color": "#2a3f5f"
            },
            "marker": {
             "line": {
              "color": "white",
              "width": 0.5
             },
             "pattern": {
              "fillmode": "overlay",
              "size": 10,
              "solidity": 0.2
             }
            },
            "type": "bar"
           }
          ],
          "barpolar": [
           {
            "marker": {
             "line": {
              "color": "white",
              "width": 0.5
             },
             "pattern": {
              "fillmode": "overlay",
              "size": 10,
              "solidity": 0.2
             }
            },
            "type": "barpolar"
           }
          ],
          "carpet": [
           {
            "aaxis": {
             "endlinecolor": "#2a3f5f",
             "gridcolor": "#C8D4E3",
             "linecolor": "#C8D4E3",
             "minorgridcolor": "#C8D4E3",
             "startlinecolor": "#2a3f5f"
            },
            "baxis": {
             "endlinecolor": "#2a3f5f",
             "gridcolor": "#C8D4E3",
             "linecolor": "#C8D4E3",
             "minorgridcolor": "#C8D4E3",
             "startlinecolor": "#2a3f5f"
            },
            "type": "carpet"
           }
          ],
          "choropleth": [
           {
            "colorbar": {
             "outlinewidth": 0,
             "ticks": ""
            },
            "type": "choropleth"
           }
          ],
          "contour": [
           {
            "colorbar": {
             "outlinewidth": 0,
             "ticks": ""
            },
            "colorscale": [
             [
              0,
              "#0d0887"
             ],
             [
              0.1111111111111111,
              "#46039f"
             ],
             [
              0.2222222222222222,
              "#7201a8"
             ],
             [
              0.3333333333333333,
              "#9c179e"
             ],
             [
              0.4444444444444444,
              "#bd3786"
             ],
             [
              0.5555555555555556,
              "#d8576b"
             ],
             [
              0.6666666666666666,
              "#ed7953"
             ],
             [
              0.7777777777777778,
              "#fb9f3a"
             ],
             [
              0.8888888888888888,
              "#fdca26"
             ],
             [
              1,
              "#f0f921"
             ]
            ],
            "type": "contour"
           }
          ],
          "contourcarpet": [
           {
            "colorbar": {
             "outlinewidth": 0,
             "ticks": ""
            },
            "type": "contourcarpet"
           }
          ],
          "heatmap": [
           {
            "colorbar": {
             "outlinewidth": 0,
             "ticks": ""
            },
            "colorscale": [
             [
              0,
              "#0d0887"
             ],
             [
              0.1111111111111111,
              "#46039f"
             ],
             [
              0.2222222222222222,
              "#7201a8"
             ],
             [
              0.3333333333333333,
              "#9c179e"
             ],
             [
              0.4444444444444444,
              "#bd3786"
             ],
             [
              0.5555555555555556,
              "#d8576b"
             ],
             [
              0.6666666666666666,
              "#ed7953"
             ],
             [
              0.7777777777777778,
              "#fb9f3a"
             ],
             [
              0.8888888888888888,
              "#fdca26"
             ],
             [
              1,
              "#f0f921"
             ]
            ],
            "type": "heatmap"
           }
          ],
          "heatmapgl": [
           {
            "colorbar": {
             "outlinewidth": 0,
             "ticks": ""
            },
            "colorscale": [
             [
              0,
              "#0d0887"
             ],
             [
              0.1111111111111111,
              "#46039f"
             ],
             [
              0.2222222222222222,
              "#7201a8"
             ],
             [
              0.3333333333333333,
              "#9c179e"
             ],
             [
              0.4444444444444444,
              "#bd3786"
             ],
             [
              0.5555555555555556,
              "#d8576b"
             ],
             [
              0.6666666666666666,
              "#ed7953"
             ],
             [
              0.7777777777777778,
              "#fb9f3a"
             ],
             [
              0.8888888888888888,
              "#fdca26"
             ],
             [
              1,
              "#f0f921"
             ]
            ],
            "type": "heatmapgl"
           }
          ],
          "histogram": [
           {
            "marker": {
             "pattern": {
              "fillmode": "overlay",
              "size": 10,
              "solidity": 0.2
             }
            },
            "type": "histogram"
           }
          ],
          "histogram2d": [
           {
            "colorbar": {
             "outlinewidth": 0,
             "ticks": ""
            },
            "colorscale": [
             [
              0,
              "#0d0887"
             ],
             [
              0.1111111111111111,
              "#46039f"
             ],
             [
              0.2222222222222222,
              "#7201a8"
             ],
             [
              0.3333333333333333,
              "#9c179e"
             ],
             [
              0.4444444444444444,
              "#bd3786"
             ],
             [
              0.5555555555555556,
              "#d8576b"
             ],
             [
              0.6666666666666666,
              "#ed7953"
             ],
             [
              0.7777777777777778,
              "#fb9f3a"
             ],
             [
              0.8888888888888888,
              "#fdca26"
             ],
             [
              1,
              "#f0f921"
             ]
            ],
            "type": "histogram2d"
           }
          ],
          "histogram2dcontour": [
           {
            "colorbar": {
             "outlinewidth": 0,
             "ticks": ""
            },
            "colorscale": [
             [
              0,
              "#0d0887"
             ],
             [
              0.1111111111111111,
              "#46039f"
             ],
             [
              0.2222222222222222,
              "#7201a8"
             ],
             [
              0.3333333333333333,
              "#9c179e"
             ],
             [
              0.4444444444444444,
              "#bd3786"
             ],
             [
              0.5555555555555556,
              "#d8576b"
             ],
             [
              0.6666666666666666,
              "#ed7953"
             ],
             [
              0.7777777777777778,
              "#fb9f3a"
             ],
             [
              0.8888888888888888,
              "#fdca26"
             ],
             [
              1,
              "#f0f921"
             ]
            ],
            "type": "histogram2dcontour"
           }
          ],
          "mesh3d": [
           {
            "colorbar": {
             "outlinewidth": 0,
             "ticks": ""
            },
            "type": "mesh3d"
           }
          ],
          "parcoords": [
           {
            "line": {
             "colorbar": {
              "outlinewidth": 0,
              "ticks": ""
             }
            },
            "type": "parcoords"
           }
          ],
          "pie": [
           {
            "automargin": true,
            "type": "pie"
           }
          ],
          "scatter": [
           {
            "fillpattern": {
             "fillmode": "overlay",
             "size": 10,
             "solidity": 0.2
            },
            "type": "scatter"
           }
          ],
          "scatter3d": [
           {
            "line": {
             "colorbar": {
              "outlinewidth": 0,
              "ticks": ""
             }
            },
            "marker": {
             "colorbar": {
              "outlinewidth": 0,
              "ticks": ""
             }
            },
            "type": "scatter3d"
           }
          ],
          "scattercarpet": [
           {
            "marker": {
             "colorbar": {
              "outlinewidth": 0,
              "ticks": ""
             }
            },
            "type": "scattercarpet"
           }
          ],
          "scattergeo": [
           {
            "marker": {
             "colorbar": {
              "outlinewidth": 0,
              "ticks": ""
             }
            },
            "type": "scattergeo"
           }
          ],
          "scattergl": [
           {
            "marker": {
             "colorbar": {
              "outlinewidth": 0,
              "ticks": ""
             }
            },
            "type": "scattergl"
           }
          ],
          "scattermapbox": [
           {
            "marker": {
             "colorbar": {
              "outlinewidth": 0,
              "ticks": ""
             }
            },
            "type": "scattermapbox"
           }
          ],
          "scatterpolar": [
           {
            "marker": {
             "colorbar": {
              "outlinewidth": 0,
              "ticks": ""
             }
            },
            "type": "scatterpolar"
           }
          ],
          "scatterpolargl": [
           {
            "marker": {
             "colorbar": {
              "outlinewidth": 0,
              "ticks": ""
             }
            },
            "type": "scatterpolargl"
           }
          ],
          "scatterternary": [
           {
            "marker": {
             "colorbar": {
              "outlinewidth": 0,
              "ticks": ""
             }
            },
            "type": "scatterternary"
           }
          ],
          "surface": [
           {
            "colorbar": {
             "outlinewidth": 0,
             "ticks": ""
            },
            "colorscale": [
             [
              0,
              "#0d0887"
             ],
             [
              0.1111111111111111,
              "#46039f"
             ],
             [
              0.2222222222222222,
              "#7201a8"
             ],
             [
              0.3333333333333333,
              "#9c179e"
             ],
             [
              0.4444444444444444,
              "#bd3786"
             ],
             [
              0.5555555555555556,
              "#d8576b"
             ],
             [
              0.6666666666666666,
              "#ed7953"
             ],
             [
              0.7777777777777778,
              "#fb9f3a"
             ],
             [
              0.8888888888888888,
              "#fdca26"
             ],
             [
              1,
              "#f0f921"
             ]
            ],
            "type": "surface"
           }
          ],
          "table": [
           {
            "cells": {
             "fill": {
              "color": "#EBF0F8"
             },
             "line": {
              "color": "white"
             }
            },
            "header": {
             "fill": {
              "color": "#C8D4E3"
             },
             "line": {
              "color": "white"
             }
            },
            "type": "table"
           }
          ]
         },
         "layout": {
          "annotationdefaults": {
           "arrowcolor": "#2a3f5f",
           "arrowhead": 0,
           "arrowwidth": 1
          },
          "autotypenumbers": "strict",
          "coloraxis": {
           "colorbar": {
            "outlinewidth": 0,
            "ticks": ""
           }
          },
          "colorscale": {
           "diverging": [
            [
             0,
             "#8e0152"
            ],
            [
             0.1,
             "#c51b7d"
            ],
            [
             0.2,
             "#de77ae"
            ],
            [
             0.3,
             "#f1b6da"
            ],
            [
             0.4,
             "#fde0ef"
            ],
            [
             0.5,
             "#f7f7f7"
            ],
            [
             0.6,
             "#e6f5d0"
            ],
            [
             0.7,
             "#b8e186"
            ],
            [
             0.8,
             "#7fbc41"
            ],
            [
             0.9,
             "#4d9221"
            ],
            [
             1,
             "#276419"
            ]
           ],
           "sequential": [
            [
             0,
             "#0d0887"
            ],
            [
             0.1111111111111111,
             "#46039f"
            ],
            [
             0.2222222222222222,
             "#7201a8"
            ],
            [
             0.3333333333333333,
             "#9c179e"
            ],
            [
             0.4444444444444444,
             "#bd3786"
            ],
            [
             0.5555555555555556,
             "#d8576b"
            ],
            [
             0.6666666666666666,
             "#ed7953"
            ],
            [
             0.7777777777777778,
             "#fb9f3a"
            ],
            [
             0.8888888888888888,
             "#fdca26"
            ],
            [
             1,
             "#f0f921"
            ]
           ],
           "sequentialminus": [
            [
             0,
             "#0d0887"
            ],
            [
             0.1111111111111111,
             "#46039f"
            ],
            [
             0.2222222222222222,
             "#7201a8"
            ],
            [
             0.3333333333333333,
             "#9c179e"
            ],
            [
             0.4444444444444444,
             "#bd3786"
            ],
            [
             0.5555555555555556,
             "#d8576b"
            ],
            [
             0.6666666666666666,
             "#ed7953"
            ],
            [
             0.7777777777777778,
             "#fb9f3a"
            ],
            [
             0.8888888888888888,
             "#fdca26"
            ],
            [
             1,
             "#f0f921"
            ]
           ]
          },
          "colorway": [
           "#636efa",
           "#EF553B",
           "#00cc96",
           "#ab63fa",
           "#FFA15A",
           "#19d3f3",
           "#FF6692",
           "#B6E880",
           "#FF97FF",
           "#FECB52"
          ],
          "font": {
           "color": "#2a3f5f"
          },
          "geo": {
           "bgcolor": "white",
           "lakecolor": "white",
           "landcolor": "white",
           "showlakes": true,
           "showland": true,
           "subunitcolor": "#C8D4E3"
          },
          "hoverlabel": {
           "align": "left"
          },
          "hovermode": "closest",
          "mapbox": {
           "style": "light"
          },
          "paper_bgcolor": "white",
          "plot_bgcolor": "white",
          "polar": {
           "angularaxis": {
            "gridcolor": "#EBF0F8",
            "linecolor": "#EBF0F8",
            "ticks": ""
           },
           "bgcolor": "white",
           "radialaxis": {
            "gridcolor": "#EBF0F8",
            "linecolor": "#EBF0F8",
            "ticks": ""
           }
          },
          "scene": {
           "xaxis": {
            "backgroundcolor": "white",
            "gridcolor": "#DFE8F3",
            "gridwidth": 2,
            "linecolor": "#EBF0F8",
            "showbackground": true,
            "ticks": "",
            "zerolinecolor": "#EBF0F8"
           },
           "yaxis": {
            "backgroundcolor": "white",
            "gridcolor": "#DFE8F3",
            "gridwidth": 2,
            "linecolor": "#EBF0F8",
            "showbackground": true,
            "ticks": "",
            "zerolinecolor": "#EBF0F8"
           },
           "zaxis": {
            "backgroundcolor": "white",
            "gridcolor": "#DFE8F3",
            "gridwidth": 2,
            "linecolor": "#EBF0F8",
            "showbackground": true,
            "ticks": "",
            "zerolinecolor": "#EBF0F8"
           }
          },
          "shapedefaults": {
           "line": {
            "color": "#2a3f5f"
           }
          },
          "ternary": {
           "aaxis": {
            "gridcolor": "#DFE8F3",
            "linecolor": "#A2B1C6",
            "ticks": ""
           },
           "baxis": {
            "gridcolor": "#DFE8F3",
            "linecolor": "#A2B1C6",
            "ticks": ""
           },
           "bgcolor": "white",
           "caxis": {
            "gridcolor": "#DFE8F3",
            "linecolor": "#A2B1C6",
            "ticks": ""
           }
          },
          "title": {
           "x": 0.05
          },
          "xaxis": {
           "automargin": true,
           "gridcolor": "#EBF0F8",
           "linecolor": "#EBF0F8",
           "ticks": "",
           "title": {
            "standoff": 15
           },
           "zerolinecolor": "#EBF0F8",
           "zerolinewidth": 2
          },
          "yaxis": {
           "automargin": true,
           "gridcolor": "#EBF0F8",
           "linecolor": "#EBF0F8",
           "ticks": "",
           "title": {
            "standoff": 15
           },
           "zerolinecolor": "#EBF0F8",
           "zerolinewidth": 2
          }
         }
        },
        "title": {
         "font": {
          "color": "Black",
          "size": 22
         },
         "text": "Topic Word Scores",
         "x": 0.5,
         "xanchor": "center",
         "yanchor": "top"
        },
        "width": 1000,
        "xaxis": {
         "anchor": "y",
         "domain": [
          0,
          0.175
         ],
         "showgrid": true
        },
        "xaxis2": {
         "anchor": "y2",
         "domain": [
          0.275,
          0.45
         ],
         "showgrid": true
        },
        "xaxis3": {
         "anchor": "y3",
         "domain": [
          0.55,
          0.7250000000000001
         ],
         "showgrid": true
        },
        "xaxis4": {
         "anchor": "y4",
         "domain": [
          0.825,
          1
         ],
         "showgrid": true
        },
        "xaxis5": {
         "anchor": "y5",
         "domain": [
          0,
          0.175
         ],
         "showgrid": true
        },
        "xaxis6": {
         "anchor": "y6",
         "domain": [
          0.275,
          0.45
         ],
         "showgrid": true
        },
        "xaxis7": {
         "anchor": "y7",
         "domain": [
          0.55,
          0.7250000000000001
         ],
         "showgrid": true
        },
        "xaxis8": {
         "anchor": "y8",
         "domain": [
          0.825,
          1
         ],
         "showgrid": true
        },
        "yaxis": {
         "anchor": "x",
         "domain": [
          0.6000000000000001,
          1
         ],
         "showgrid": true
        },
        "yaxis2": {
         "anchor": "x2",
         "domain": [
          0.6000000000000001,
          1
         ],
         "showgrid": true
        },
        "yaxis3": {
         "anchor": "x3",
         "domain": [
          0.6000000000000001,
          1
         ],
         "showgrid": true
        },
        "yaxis4": {
         "anchor": "x4",
         "domain": [
          0.6000000000000001,
          1
         ],
         "showgrid": true
        },
        "yaxis5": {
         "anchor": "x5",
         "domain": [
          0,
          0.4
         ],
         "showgrid": true
        },
        "yaxis6": {
         "anchor": "x6",
         "domain": [
          0,
          0.4
         ],
         "showgrid": true
        },
        "yaxis7": {
         "anchor": "x7",
         "domain": [
          0,
          0.4
         ],
         "showgrid": true
        },
        "yaxis8": {
         "anchor": "x8",
         "domain": [
          0,
          0.4
         ],
         "showgrid": true
        }
       }
      }
     },
     "metadata": {},
     "output_type": "display_data"
    }
   ],
   "source": [
    "topic_1"
   ]
  },
  {
   "cell_type": "code",
   "execution_count": null,
   "metadata": {},
   "outputs": [],
   "source": [
    "from wordcloud import WordCloud\n",
    "import matplotlib.pyplot as plt\n",
    "\n",
    "def create_wordcloud(model, topic):\n",
    "    text = {word: value for word, value in model.get_topic(topic)}\n",
    "    wc = WordCloud(background_color=\"white\", max_words=1000)\n",
    "    wc.generate_from_frequencies(text)\n",
    "    plt.imshow(wc, interpolation=\"bilinear\")\n",
    "    plt.axis(\"off\")\n",
    "    plt.show()\n",
    "\n",
    "# Show wordcloud\n",
    "create_wordcloud(topic_model, topic=1)"
   ]
  },
  {
   "cell_type": "code",
   "execution_count": 71,
   "metadata": {},
   "outputs": [
    {
     "name": "stdout",
     "output_type": "stream",
     "text": [
      "Custom Stop Words:\n",
      "{'hitchhike,”', 'are', 'when', 'then', 'got', 'as', 'this', 'said', 'over', 'menshen,', '“busy.”', 'taban,', 'any', 'could', 'after', 'had', 'πέρασε', 'would', 'garan,', 'dr.martanik', 'down', 'suzan.', 'me', 'θανάτου', 'out', 'geriel!”', 'παραπλανεί,', 'something', 'daq,', 'her', '“bataar!”', 'muddy-colored,', 'λαό', 'crook.”', 'μέσα', 'bataar,', 'they', \"''3:00am.''\", 'dongsheng,', 'how', 'or', 'before', 'the', 'ruins.jpg|thumb|290px]]', 'rowboat’s', 'other', 'erlik?', 'some', 'all', 'at', 'desert,”', 'erlik’s', 'do', 'carousel!”', 'she', 'his', 'still', '“あなたは、来世での幸せを見つけることができる.”(may', 'what', \"palaces'''''\", 'were', \"[[file:erlik's\", 'one', 'bethlam', 'armoured.', 'your', 'recommendations?”', 'bataar’s.', '{{sort|σκοτεινά', 'στα', 'deel.', 'καιρός,', 'erlik?”', 'of', 'not', 'john…”', 'a', 'ordos?”', 'geriel,”', 'itami,', 'kangbashi', 'i', 'made', 'we', 'μα', 'afterlife)', 'have', 'up', 'saw', 'λυσσομανεί,', 'no', 'ordos,', 'escaped?!”', 'αν', 'through', 'keylans,', 'know', 'death-curdled', 'be', 'an', 'its', 'θύελα', 'was', 'ξεχασμένο,', 'on', 'έχει', 'λυσσομανεί.', \"excuse.''\", 'will', 'there', 'you', 'neighbor’s,', 'looked', 'smithed', 'around', 'in', 'escaped!”', 'adaptive,', 'and…you’re', 'it', 'if', 'did', \"''erlik\", 'πλέον', 'itami’s', 'can', 'he', 'him', 'north—“', 'off', '[[file:underwater', 'just', 'gauntlets.', 'for', 'suffer).”', 'and', 'so', 'multi-lane', 'me.', 'with', 'like', 'bataar?”', 'λησμονηθεί.', 'τον', 'garanians,', 'forest(s)', 'κάποιος', 'ήρθε', 'by', 'commuting,', 'which', 'them', 'my', 'who', 'than', 'σιγή.', 'now', '“あなたは苦しむでしょう(you', 'όνομά', 'but', 'district,”', 'shifu', 'to', 'go', 'delectable,”', 'where', 'σκοτάδια,', 'never', 'werendu', 'been', 'office.webp|thumb|300', 'their', 'get', 'back', 'eyes', \"''run!''\", 'time', 'from', 'iconoclasts.', 'αρχαία', 'του,', 'even', 'more', 'and…we', \"''run,\", 'about', 'see', 'our', 'crowded.”', 'is', 'τα}}', 'suzan,', 'into', 'armor-on-floor,', '“苦しむ!(suffer)”', 'χρόνια,', 'that', 'excuse.”', 'only', \"dentistry.''\", 'it.'}\n"
     ]
    }
   ],
   "source": [
    "from collections import Counter\n",
    "import math\n",
    "\n",
    "def calculate_idf(documents):\n",
    "    \"\"\"\n",
    "    Calculate IDF (Inverse Document Frequency) for terms in documents.\n",
    "    \"\"\"\n",
    "    idf_values = {}\n",
    "    total_documents = len(documents)\n",
    "\n",
    "    # Count the number of documents containing each term\n",
    "    document_frequency = Counter()\n",
    "    for document in documents:\n",
    "        document=document.lower()\n",
    "        unique_terms = set(document.split())  # Split document into words\n",
    "        for term in unique_terms:\n",
    "            document_frequency[term] += 1\n",
    "\n",
    "    # Calculate IDF for each term\n",
    "    for term, freq in document_frequency.items():\n",
    "        idf_values[term] = math.log(total_documents / (freq + 1))  # Add 1 to avoid division by zero\n",
    "\n",
    "    return idf_values\n",
    "\n",
    "def build_stopword_list(documents, most_freq_count, least_freq_count, low_idf_threshold):\n",
    "    \"\"\"\n",
    "    Build a custom stop word list from a corpus using most frequent words, least frequent words,\n",
    "    and terms with low IDF values.\n",
    "    \"\"\"\n",
    "    # Count term frequencies\n",
    "    term_freq = Counter()\n",
    "    for document in documents:\n",
    "        document=document.lower()\n",
    "        term_freq.update(document.split())  # Split document into words\n",
    "\n",
    "    # Find the most frequent and least frequent words\n",
    "    most_freq_words = [word for word, _ in term_freq.most_common(most_freq_count)]\n",
    "    least_freq_words = [word for word, _ in term_freq.most_common()[-least_freq_count:]]\n",
    "\n",
    "    # Calculate IDF values\n",
    "    idf_values = calculate_idf(documents)\n",
    "\n",
    "    # Find terms with low IDF values\n",
    "    low_idf_words = [term for term, idf in idf_values.items() if idf < low_idf_threshold]\n",
    "\n",
    "    # Combine all stop words\n",
    "    stop_words = set(most_freq_words + least_freq_words + low_idf_words)\n",
    "\n",
    "    return stop_words\n",
    "\n",
    "# Example corpus (list of documents)\n",
    "corpus = texte\n",
    "# Parameters for stop word list construction\n",
    "most_freq_count = 100\n",
    "least_freq_count = 100\n",
    "low_idf_threshold = 0.5\n",
    "\n",
    "# Build custom stop word list\n",
    "custom_stopwords = build_stopword_list(corpus, most_freq_count, least_freq_count, low_idf_threshold)\n",
    "\n",
    "print(\"Custom Stop Words:\")\n",
    "print(custom_stopwords)\n"
   ]
  },
  {
   "cell_type": "code",
   "execution_count": 72,
   "metadata": {},
   "outputs": [],
   "source": [
    "#mélanger plusieurs listes de stop words: \n",
    "stop_words_custom=[i for i in en_stop if i not in custom_stopwords]\n",
    "sw=list(custom_stopwords)\n",
    "sw.extend(stop_words_custom)"
   ]
  },
  {
   "cell_type": "code",
   "execution_count": 75,
   "metadata": {},
   "outputs": [
    {
     "name": "stdout",
     "output_type": "stream",
     "text": [
      "['hitchhike,”', 'are', 'when', 'then', 'got', 'as', 'this', 'said', 'over', 'menshen,', '“busy.”', 'taban,', 'any', 'could', 'after', 'had', 'πέρασε', 'would', 'garan,', 'dr.martanik', 'down', 'suzan.', 'me', 'θανάτου', 'out', 'geriel!”', 'παραπλανεί,', 'something', 'daq,', 'her', '“bataar!”', 'muddy-colored,', 'λαό', 'crook.”', 'μέσα', 'bataar,', 'they', '3:00am.', 'dongsheng,', 'how', 'or', 'before', 'the', 'ruins.jpg|thumb|290px]]', 'rowboat’s', 'other', 'erlik?', 'some', 'all', 'at', 'desert,”', 'erlik’s', 'do', 'carousel!”', 'she', 'his', 'still', '“あなたは、来世での幸せを見つけることができる.”(may', 'what', 'palaces', 'were', '[[file:erliks', 'one', 'bethlam', 'armoured.', 'your', 'recommendations?”', 'bataar’s.', '{{sort|σκοτεινά', 'στα', 'deel.', 'καιρός,', 'erlik?”', 'of', 'not', 'john…”', 'a', 'ordos?”', 'geriel,”', 'itami,', 'kangbashi', 'i', 'made', 'we', 'μα', 'afterlife)', 'have', 'up', 'saw', 'λυσσομανεί,', 'no', 'ordos,', 'escaped?!”', 'αν', 'through', 'keylans,', 'know', 'death-curdled', 'be', 'an', 'its', 'θύελα', 'was', 'ξεχασμένο,', 'on', 'έχει', 'λυσσομανεί.', 'excuse.', 'will', 'there', 'you', 'neighbor’s,', 'looked', 'smithed', 'around', 'in', 'escaped!”', 'adaptive,', 'and…you’re', 'it', 'if', 'did', 'erlik', 'πλέον', 'itami’s', 'can', 'he', 'him', 'north—“', 'off', '[[file:underwater', 'just', 'gauntlets.', 'for', 'suffer).”', 'and', 'so', 'multi-lane', 'me.', 'with', 'like', 'bataar?”', 'λησμονηθεί.', 'τον', 'garanians,', 'forest(s)', 'κάποιος', 'ήρθε', 'by', 'commuting,', 'which', 'them', 'my', 'who', 'than', 'σιγή.', 'now', '“あなたは苦しむでしょう(you', 'όνομά', 'but', 'district,”', 'shifu', 'to', 'go', 'delectable,”', 'where', 'σκοτάδια,', 'never', 'werendu', 'been', 'office.webp|thumb|300', 'their', 'get', 'back', 'eyes', 'run!', 'time', 'from', 'iconoclasts.', 'αρχαία', 'του,', 'even', 'more', 'and…we', 'run,', 'about', 'see', 'our', 'crowded.”', 'is', 'τα}}', 'suzan,', 'into', 'armor-on-floor,', '“苦しむ!(suffer)”', 'χρόνια,', 'that', 'excuse.”', 'only', 'dentistry.', 'it.', 'myself', 'ours', 'ourselves', 'youre', 'youve', 'youll', 'youd', 'yours', 'yourself', 'yourselves', 'himself', 'shes', 'hers', 'herself', 'its', 'itself', 'theirs', 'themselves', 'whom', 'thatll', 'these', 'those', 'am', 'being', 'has', 'having', 'does', 'doing', 'because', 'until', 'while', 'against', 'between', 'during', 'above', 'below', 'under', 'again', 'further', 'once', 'here', 'why', 'both', 'each', 'few', 'most', 'such', 'nor', 'own', 'same', 'too', 'very', 's', 't', 'don', 'dont', 'should', 'shouldve', 'd', 'll', 'm', 'o', 're', 've', 'y', 'ain', 'aren', 'arent', 'couldn', 'couldnt', 'didn', 'didnt', 'doesn', 'doesnt', 'hadn', 'hadnt', 'hasn', 'hasnt', 'haven', 'havent', 'isn', 'isnt', 'ma', 'mightn', 'mightnt', 'mustn', 'mustnt', 'needn', 'neednt', 'shan', 'shant', 'shouldn', 'shouldnt', 'wasn', 'wasnt', 'weren', 'werent', 'won', 'wont', 'wouldn', 'wouldnt']\n"
     ]
    }
   ],
   "source": [
    "sw_2=[]\n",
    "for i in sw : \n",
    "    if \"'\" in i : \n",
    "        sw_2.append(i.replace(\"'\",''))\n",
    "    else : \n",
    "        sw_2.append(i)\n",
    "print(sw_2)"
   ]
  },
  {
   "cell_type": "code",
   "execution_count": 68,
   "metadata": {},
   "outputs": [],
   "source": [
    "sw.extend(['would','could','back','im'])"
   ]
  },
  {
   "cell_type": "markdown",
   "metadata": {},
   "source": []
  },
  {
   "cell_type": "code",
   "execution_count": 69,
   "metadata": {},
   "outputs": [
    {
     "data": {
      "text/plain": [
       "['hitchhike,”',\n",
       " 'let',\n",
       " 'are',\n",
       " 'when',\n",
       " 'then',\n",
       " 'got',\n",
       " 'head',\n",
       " 'same',\n",
       " 'as',\n",
       " 'this',\n",
       " 'said',\n",
       " 'over',\n",
       " 'menshen,',\n",
       " '“busy.”',\n",
       " 'taban,',\n",
       " 'any',\n",
       " 'could',\n",
       " 'after',\n",
       " 'had',\n",
       " 'πέρασε',\n",
       " 'would',\n",
       " 'garan,',\n",
       " 'dr.martanik',\n",
       " 'down',\n",
       " 'found',\n",
       " 'suzan.',\n",
       " 'me',\n",
       " 'θανάτου',\n",
       " 'out',\n",
       " 'geriel!”',\n",
       " 'παραπλανεί,',\n",
       " 'something',\n",
       " 'daq,',\n",
       " 'her',\n",
       " 'behind',\n",
       " 'went',\n",
       " '“bataar!”',\n",
       " 'face',\n",
       " 'next',\n",
       " 'muddy-colored,',\n",
       " 'come',\n",
       " 'λαό',\n",
       " 'crook.”',\n",
       " 'μέσα',\n",
       " 'started',\n",
       " 'man',\n",
       " 'they',\n",
       " 'bataar,',\n",
       " '3:00am.',\n",
       " 'dongsheng,',\n",
       " 'how',\n",
       " 'or',\n",
       " 'before',\n",
       " 'the',\n",
       " 'ruins.jpg|thumb|290px]]',\n",
       " 'too',\n",
       " 'other',\n",
       " 'thought',\n",
       " 'rowboat’s',\n",
       " 'while',\n",
       " 'dont',\n",
       " 'erlik?',\n",
       " 'some',\n",
       " 'all',\n",
       " 'at',\n",
       " 'few',\n",
       " 'desert,”',\n",
       " 'erlik’s',\n",
       " 'do',\n",
       " 'carousel!”',\n",
       " 'she',\n",
       " 'his',\n",
       " 'still',\n",
       " 'until',\n",
       " '“あなたは、来世での幸せを見つけることができる.”(may',\n",
       " 'what',\n",
       " 'right',\n",
       " 'im',\n",
       " 'palaces',\n",
       " 'feel',\n",
       " 'were',\n",
       " '[[file:erliks',\n",
       " 'one',\n",
       " 'take',\n",
       " 'bethlam',\n",
       " 'armoured.',\n",
       " 'your',\n",
       " 'recommendations?”',\n",
       " 'bataar’s.',\n",
       " 'door',\n",
       " 'στα',\n",
       " '{{sort|σκοτεινά',\n",
       " 'old',\n",
       " 'deel.',\n",
       " 'καιρός,',\n",
       " 'erlik?”',\n",
       " 'has',\n",
       " 'ever',\n",
       " 'very',\n",
       " 'of',\n",
       " 'not',\n",
       " 'every',\n",
       " '01100101',\n",
       " 'john…”',\n",
       " 'a',\n",
       " 'took',\n",
       " 'ordos?”',\n",
       " 'geriel,”',\n",
       " 'itami,',\n",
       " 'it,',\n",
       " 'kangbashi',\n",
       " 'i',\n",
       " 'made',\n",
       " 'we',\n",
       " 'two',\n",
       " 'knew',\n",
       " '01101110',\n",
       " 'away',\n",
       " 'have',\n",
       " 'long',\n",
       " 'don’t',\n",
       " 'up',\n",
       " 'μα',\n",
       " 'room',\n",
       " 'afterlife)',\n",
       " 'saw',\n",
       " 'λυσσομανεί,',\n",
       " 'no',\n",
       " 'ordos,',\n",
       " 'escaped?!”',\n",
       " 'αν',\n",
       " 'through',\n",
       " 'began',\n",
       " 'keylans,',\n",
       " 'know',\n",
       " 'death-curdled',\n",
       " 'be',\n",
       " 'an',\n",
       " 'its',\n",
       " 'came',\n",
       " 'was',\n",
       " 'θύελα',\n",
       " 'ξεχασμένο,',\n",
       " 'on',\n",
       " 'έχει',\n",
       " 'λυσσομανεί.',\n",
       " 'excuse.',\n",
       " 'will',\n",
       " 'there',\n",
       " 'most',\n",
       " 'you',\n",
       " 'nothing',\n",
       " 'neighbor’s,',\n",
       " 'looked',\n",
       " 'smithed',\n",
       " 'around',\n",
       " 'i’m',\n",
       " 'in',\n",
       " 'escaped!”',\n",
       " 'adaptive,',\n",
       " 'first',\n",
       " 'thing',\n",
       " 'and…you’re',\n",
       " 'it',\n",
       " 'if',\n",
       " 'did',\n",
       " 'erlik',\n",
       " 'these',\n",
       " 'πλέον',\n",
       " 'itami’s',\n",
       " 'can',\n",
       " 'he',\n",
       " 'him',\n",
       " 'north—“',\n",
       " 'off',\n",
       " '[[file:underwater',\n",
       " 'just',\n",
       " 'gauntlets.',\n",
       " 'for',\n",
       " 'suffer).”',\n",
       " 'and',\n",
       " 'so',\n",
       " 'make',\n",
       " 'excuse.”',\n",
       " 'much',\n",
       " 'multi-lane',\n",
       " 'me.',\n",
       " 'with',\n",
       " 'like',\n",
       " 'bataar?”',\n",
       " 'λησμονηθεί.',\n",
       " 'why',\n",
       " 'τον',\n",
       " 'garanians,',\n",
       " 'forest(s)',\n",
       " 'find',\n",
       " 'κάποιος',\n",
       " 'ήρθε',\n",
       " 'by',\n",
       " 'looking',\n",
       " 'which',\n",
       " 'look',\n",
       " 'them',\n",
       " 'commuting,',\n",
       " 'my',\n",
       " 'who',\n",
       " 'than',\n",
       " 'σιγή.',\n",
       " 'now',\n",
       " '“あなたは苦しむでしょう(you',\n",
       " 'όνομά',\n",
       " 'us',\n",
       " 'but',\n",
       " 'district,”',\n",
       " 'another',\n",
       " 'shifu',\n",
       " 'to',\n",
       " 'think',\n",
       " 'heard',\n",
       " 'go',\n",
       " 'way',\n",
       " 'delectable,”',\n",
       " 'him.',\n",
       " 'always',\n",
       " 'where',\n",
       " 'told',\n",
       " 'σκοτάδια,',\n",
       " 'never',\n",
       " 'werendu',\n",
       " 'tell',\n",
       " 'been',\n",
       " 'being',\n",
       " 'office.webp|thumb|300',\n",
       " 'their',\n",
       " 'get',\n",
       " 'back',\n",
       " 'eyes',\n",
       " 'didn’t',\n",
       " 'time',\n",
       " 'from',\n",
       " 'iconoclasts.',\n",
       " 'run!',\n",
       " 'once',\n",
       " 'going',\n",
       " 'του,',\n",
       " 'αρχαία',\n",
       " 'even',\n",
       " 'more',\n",
       " 'last',\n",
       " 'and…we',\n",
       " 'about',\n",
       " 'see',\n",
       " 'our',\n",
       " 'me,',\n",
       " 'run,',\n",
       " 'crowded.”',\n",
       " 'turned',\n",
       " 'is',\n",
       " 'felt',\n",
       " 'almost',\n",
       " 'into',\n",
       " 'armor-on-floor,',\n",
       " 'τα}}',\n",
       " 'suzan,',\n",
       " 'left',\n",
       " 'because',\n",
       " 'χρόνια,',\n",
       " '“苦しむ!(suffer)”',\n",
       " 'really',\n",
       " 'those',\n",
       " 'that',\n",
       " 'hand',\n",
       " 'didnt',\n",
       " 'want',\n",
       " 'seemed',\n",
       " 'people',\n",
       " 'little',\n",
       " 'only',\n",
       " 'dentistry.',\n",
       " 'it.',\n",
       " 'would',\n",
       " 'could',\n",
       " 'back',\n",
       " 'im']"
      ]
     },
     "execution_count": 69,
     "metadata": {},
     "output_type": "execute_result"
    }
   ],
   "source": [
    "sw"
   ]
  },
  {
   "cell_type": "code",
   "execution_count": 76,
   "metadata": {},
   "outputs": [
    {
     "name": "stderr",
     "output_type": "stream",
     "text": [
      "2024-03-05 10:45:19,576 - BERTopic - Embedding - Transforming documents to embeddings.\n",
      "Batches: 100%|██████████| 410/410 [02:29<00:00,  2.74it/s]\n",
      "2024-03-05 10:47:54,721 - BERTopic - Embedding - Completed ✓\n",
      "2024-03-05 10:47:54,721 - BERTopic - Dimensionality - Fitting the dimensionality reduction algorithm\n",
      "2024-03-05 10:47:58,024 - BERTopic - Dimensionality - Completed ✓\n",
      "2024-03-05 10:47:58,025 - BERTopic - Cluster - Start clustering the reduced embeddings\n",
      "2024-03-05 10:48:01,261 - BERTopic - Cluster - Completed ✓\n",
      "2024-03-05 10:48:01,264 - BERTopic - Representation - Extracting topics from clusters using representation models.\n",
      "2024-03-05 10:48:54,259 - BERTopic - Representation - Completed ✓\n"
     ]
    },
    {
     "data": {
      "application/vnd.plotly.v1+json": {
       "config": {
        "plotlyServerURL": "https://plot.ly"
       },
       "data": [
        {
         "marker": {
          "color": "#D55E00"
         },
         "orientation": "h",
         "type": "bar",
         "x": [
          0.003635019031465874,
          0.003672857625246278,
          0.003796153457214988,
          0.004115756520108929,
          0.004349505750214197
         ],
         "xaxis": "x",
         "y": [
          "face  ",
          "head  ",
          "room  ",
          "door  ",
          "man  "
         ],
         "yaxis": "y"
        },
        {
         "marker": {
          "color": "#0072B2"
         },
         "orientation": "h",
         "type": "bar",
         "x": [
          0.0038771134326581985,
          0.0039475716615378536,
          0.00414091110741939,
          0.004420557180788131,
          0.004531394069092103
         ],
         "xaxis": "x2",
         "y": [
          "nancy  ",
          "door  ",
          "us  ",
          "room  ",
          "told  "
         ],
         "yaxis": "y2"
        },
        {
         "marker": {
          "color": "#CC79A7"
         },
         "orientation": "h",
         "type": "bar",
         "x": [
          0.009780041824363402,
          0.00996365020328173,
          0.010207589075486712,
          0.01262520134177217,
          0.021374158648301157
         ],
         "xaxis": "x3",
         "y": [
          "538  ",
          "door  ",
          "object  ",
          "ask  ",
          "holder  "
         ],
         "yaxis": "y3"
        },
        {
         "marker": {
          "color": "#E69F00"
         },
         "orientation": "h",
         "type": "bar",
         "x": [
          0.004037821119399414,
          0.004254821968192318,
          0.004682816997880413,
          0.005732362025728495,
          0.0057374316056491795
         ],
         "xaxis": "x4",
         "y": [
          "us  ",
          "trees  ",
          "tree  ",
          "woods  ",
          "forest  "
         ],
         "yaxis": "y4"
        },
        {
         "marker": {
          "color": "#56B4E9"
         },
         "orientation": "h",
         "type": "bar",
         "x": [
          0.0037473813990213456,
          0.003877567677933321,
          0.0039058894994316905,
          0.004179012429297917,
          0.00495741430889706
         ],
         "xaxis": "x5",
         "y": [
          "town  ",
          "door  ",
          "room  ",
          "us  ",
          "house  "
         ],
         "yaxis": "y5"
        },
        {
         "marker": {
          "color": "#009E73"
         },
         "orientation": "h",
         "type": "bar",
         "x": [
          0.004399957618335647,
          0.004669899024560379,
          0.004986357345453807,
          0.009211267469910606,
          0.013983722335034756
         ],
         "xaxis": "x6",
         "y": [
          "room  ",
          "felt  ",
          "im  ",
          "dreams  ",
          "dream  "
         ],
         "yaxis": "y6"
        },
        {
         "marker": {
          "color": "#F0E442"
         },
         "orientation": "h",
         "type": "bar",
         "x": [
          0.004449641635877423,
          0.004509473508364552,
          0.005072942621194547,
          0.005174996665985412,
          0.006065743100048396
         ],
         "xaxis": "x7",
         "y": [
          "universe  ",
          "us  ",
          "world  ",
          "death  ",
          "life  "
         ],
         "yaxis": "y7"
        },
        {
         "marker": {
          "color": "#D55E00"
         },
         "orientation": "h",
         "type": "bar",
         "x": [
          0.004426694943593296,
          0.004567644960332765,
          0.004676813811767845,
          0.004682453739091192,
          0.005403347458396595
         ],
         "xaxis": "x8",
         "y": [
          "room  ",
          "feel  ",
          "body  ",
          "blood  ",
          "felt  "
         ],
         "yaxis": "y8"
        }
       ],
       "layout": {
        "annotations": [
         {
          "font": {
           "size": 16
          },
          "showarrow": false,
          "text": "Topic 0",
          "x": 0.0875,
          "xanchor": "center",
          "xref": "paper",
          "y": 1,
          "yanchor": "bottom",
          "yref": "paper"
         },
         {
          "font": {
           "size": 16
          },
          "showarrow": false,
          "text": "Topic 1",
          "x": 0.36250000000000004,
          "xanchor": "center",
          "xref": "paper",
          "y": 1,
          "yanchor": "bottom",
          "yref": "paper"
         },
         {
          "font": {
           "size": 16
          },
          "showarrow": false,
          "text": "Topic 2",
          "x": 0.6375000000000001,
          "xanchor": "center",
          "xref": "paper",
          "y": 1,
          "yanchor": "bottom",
          "yref": "paper"
         },
         {
          "font": {
           "size": 16
          },
          "showarrow": false,
          "text": "Topic 3",
          "x": 0.9125,
          "xanchor": "center",
          "xref": "paper",
          "y": 1,
          "yanchor": "bottom",
          "yref": "paper"
         },
         {
          "font": {
           "size": 16
          },
          "showarrow": false,
          "text": "Topic 4",
          "x": 0.0875,
          "xanchor": "center",
          "xref": "paper",
          "y": 0.4,
          "yanchor": "bottom",
          "yref": "paper"
         },
         {
          "font": {
           "size": 16
          },
          "showarrow": false,
          "text": "Topic 5",
          "x": 0.36250000000000004,
          "xanchor": "center",
          "xref": "paper",
          "y": 0.4,
          "yanchor": "bottom",
          "yref": "paper"
         },
         {
          "font": {
           "size": 16
          },
          "showarrow": false,
          "text": "Topic 6",
          "x": 0.6375000000000001,
          "xanchor": "center",
          "xref": "paper",
          "y": 0.4,
          "yanchor": "bottom",
          "yref": "paper"
         },
         {
          "font": {
           "size": 16
          },
          "showarrow": false,
          "text": "Topic 7",
          "x": 0.9125,
          "xanchor": "center",
          "xref": "paper",
          "y": 0.4,
          "yanchor": "bottom",
          "yref": "paper"
         }
        ],
        "height": 500,
        "hoverlabel": {
         "bgcolor": "white",
         "font": {
          "family": "Rockwell",
          "size": 16
         }
        },
        "showlegend": false,
        "template": {
         "data": {
          "bar": [
           {
            "error_x": {
             "color": "#2a3f5f"
            },
            "error_y": {
             "color": "#2a3f5f"
            },
            "marker": {
             "line": {
              "color": "white",
              "width": 0.5
             },
             "pattern": {
              "fillmode": "overlay",
              "size": 10,
              "solidity": 0.2
             }
            },
            "type": "bar"
           }
          ],
          "barpolar": [
           {
            "marker": {
             "line": {
              "color": "white",
              "width": 0.5
             },
             "pattern": {
              "fillmode": "overlay",
              "size": 10,
              "solidity": 0.2
             }
            },
            "type": "barpolar"
           }
          ],
          "carpet": [
           {
            "aaxis": {
             "endlinecolor": "#2a3f5f",
             "gridcolor": "#C8D4E3",
             "linecolor": "#C8D4E3",
             "minorgridcolor": "#C8D4E3",
             "startlinecolor": "#2a3f5f"
            },
            "baxis": {
             "endlinecolor": "#2a3f5f",
             "gridcolor": "#C8D4E3",
             "linecolor": "#C8D4E3",
             "minorgridcolor": "#C8D4E3",
             "startlinecolor": "#2a3f5f"
            },
            "type": "carpet"
           }
          ],
          "choropleth": [
           {
            "colorbar": {
             "outlinewidth": 0,
             "ticks": ""
            },
            "type": "choropleth"
           }
          ],
          "contour": [
           {
            "colorbar": {
             "outlinewidth": 0,
             "ticks": ""
            },
            "colorscale": [
             [
              0,
              "#0d0887"
             ],
             [
              0.1111111111111111,
              "#46039f"
             ],
             [
              0.2222222222222222,
              "#7201a8"
             ],
             [
              0.3333333333333333,
              "#9c179e"
             ],
             [
              0.4444444444444444,
              "#bd3786"
             ],
             [
              0.5555555555555556,
              "#d8576b"
             ],
             [
              0.6666666666666666,
              "#ed7953"
             ],
             [
              0.7777777777777778,
              "#fb9f3a"
             ],
             [
              0.8888888888888888,
              "#fdca26"
             ],
             [
              1,
              "#f0f921"
             ]
            ],
            "type": "contour"
           }
          ],
          "contourcarpet": [
           {
            "colorbar": {
             "outlinewidth": 0,
             "ticks": ""
            },
            "type": "contourcarpet"
           }
          ],
          "heatmap": [
           {
            "colorbar": {
             "outlinewidth": 0,
             "ticks": ""
            },
            "colorscale": [
             [
              0,
              "#0d0887"
             ],
             [
              0.1111111111111111,
              "#46039f"
             ],
             [
              0.2222222222222222,
              "#7201a8"
             ],
             [
              0.3333333333333333,
              "#9c179e"
             ],
             [
              0.4444444444444444,
              "#bd3786"
             ],
             [
              0.5555555555555556,
              "#d8576b"
             ],
             [
              0.6666666666666666,
              "#ed7953"
             ],
             [
              0.7777777777777778,
              "#fb9f3a"
             ],
             [
              0.8888888888888888,
              "#fdca26"
             ],
             [
              1,
              "#f0f921"
             ]
            ],
            "type": "heatmap"
           }
          ],
          "heatmapgl": [
           {
            "colorbar": {
             "outlinewidth": 0,
             "ticks": ""
            },
            "colorscale": [
             [
              0,
              "#0d0887"
             ],
             [
              0.1111111111111111,
              "#46039f"
             ],
             [
              0.2222222222222222,
              "#7201a8"
             ],
             [
              0.3333333333333333,
              "#9c179e"
             ],
             [
              0.4444444444444444,
              "#bd3786"
             ],
             [
              0.5555555555555556,
              "#d8576b"
             ],
             [
              0.6666666666666666,
              "#ed7953"
             ],
             [
              0.7777777777777778,
              "#fb9f3a"
             ],
             [
              0.8888888888888888,
              "#fdca26"
             ],
             [
              1,
              "#f0f921"
             ]
            ],
            "type": "heatmapgl"
           }
          ],
          "histogram": [
           {
            "marker": {
             "pattern": {
              "fillmode": "overlay",
              "size": 10,
              "solidity": 0.2
             }
            },
            "type": "histogram"
           }
          ],
          "histogram2d": [
           {
            "colorbar": {
             "outlinewidth": 0,
             "ticks": ""
            },
            "colorscale": [
             [
              0,
              "#0d0887"
             ],
             [
              0.1111111111111111,
              "#46039f"
             ],
             [
              0.2222222222222222,
              "#7201a8"
             ],
             [
              0.3333333333333333,
              "#9c179e"
             ],
             [
              0.4444444444444444,
              "#bd3786"
             ],
             [
              0.5555555555555556,
              "#d8576b"
             ],
             [
              0.6666666666666666,
              "#ed7953"
             ],
             [
              0.7777777777777778,
              "#fb9f3a"
             ],
             [
              0.8888888888888888,
              "#fdca26"
             ],
             [
              1,
              "#f0f921"
             ]
            ],
            "type": "histogram2d"
           }
          ],
          "histogram2dcontour": [
           {
            "colorbar": {
             "outlinewidth": 0,
             "ticks": ""
            },
            "colorscale": [
             [
              0,
              "#0d0887"
             ],
             [
              0.1111111111111111,
              "#46039f"
             ],
             [
              0.2222222222222222,
              "#7201a8"
             ],
             [
              0.3333333333333333,
              "#9c179e"
             ],
             [
              0.4444444444444444,
              "#bd3786"
             ],
             [
              0.5555555555555556,
              "#d8576b"
             ],
             [
              0.6666666666666666,
              "#ed7953"
             ],
             [
              0.7777777777777778,
              "#fb9f3a"
             ],
             [
              0.8888888888888888,
              "#fdca26"
             ],
             [
              1,
              "#f0f921"
             ]
            ],
            "type": "histogram2dcontour"
           }
          ],
          "mesh3d": [
           {
            "colorbar": {
             "outlinewidth": 0,
             "ticks": ""
            },
            "type": "mesh3d"
           }
          ],
          "parcoords": [
           {
            "line": {
             "colorbar": {
              "outlinewidth": 0,
              "ticks": ""
             }
            },
            "type": "parcoords"
           }
          ],
          "pie": [
           {
            "automargin": true,
            "type": "pie"
           }
          ],
          "scatter": [
           {
            "fillpattern": {
             "fillmode": "overlay",
             "size": 10,
             "solidity": 0.2
            },
            "type": "scatter"
           }
          ],
          "scatter3d": [
           {
            "line": {
             "colorbar": {
              "outlinewidth": 0,
              "ticks": ""
             }
            },
            "marker": {
             "colorbar": {
              "outlinewidth": 0,
              "ticks": ""
             }
            },
            "type": "scatter3d"
           }
          ],
          "scattercarpet": [
           {
            "marker": {
             "colorbar": {
              "outlinewidth": 0,
              "ticks": ""
             }
            },
            "type": "scattercarpet"
           }
          ],
          "scattergeo": [
           {
            "marker": {
             "colorbar": {
              "outlinewidth": 0,
              "ticks": ""
             }
            },
            "type": "scattergeo"
           }
          ],
          "scattergl": [
           {
            "marker": {
             "colorbar": {
              "outlinewidth": 0,
              "ticks": ""
             }
            },
            "type": "scattergl"
           }
          ],
          "scattermapbox": [
           {
            "marker": {
             "colorbar": {
              "outlinewidth": 0,
              "ticks": ""
             }
            },
            "type": "scattermapbox"
           }
          ],
          "scatterpolar": [
           {
            "marker": {
             "colorbar": {
              "outlinewidth": 0,
              "ticks": ""
             }
            },
            "type": "scatterpolar"
           }
          ],
          "scatterpolargl": [
           {
            "marker": {
             "colorbar": {
              "outlinewidth": 0,
              "ticks": ""
             }
            },
            "type": "scatterpolargl"
           }
          ],
          "scatterternary": [
           {
            "marker": {
             "colorbar": {
              "outlinewidth": 0,
              "ticks": ""
             }
            },
            "type": "scatterternary"
           }
          ],
          "surface": [
           {
            "colorbar": {
             "outlinewidth": 0,
             "ticks": ""
            },
            "colorscale": [
             [
              0,
              "#0d0887"
             ],
             [
              0.1111111111111111,
              "#46039f"
             ],
             [
              0.2222222222222222,
              "#7201a8"
             ],
             [
              0.3333333333333333,
              "#9c179e"
             ],
             [
              0.4444444444444444,
              "#bd3786"
             ],
             [
              0.5555555555555556,
              "#d8576b"
             ],
             [
              0.6666666666666666,
              "#ed7953"
             ],
             [
              0.7777777777777778,
              "#fb9f3a"
             ],
             [
              0.8888888888888888,
              "#fdca26"
             ],
             [
              1,
              "#f0f921"
             ]
            ],
            "type": "surface"
           }
          ],
          "table": [
           {
            "cells": {
             "fill": {
              "color": "#EBF0F8"
             },
             "line": {
              "color": "white"
             }
            },
            "header": {
             "fill": {
              "color": "#C8D4E3"
             },
             "line": {
              "color": "white"
             }
            },
            "type": "table"
           }
          ]
         },
         "layout": {
          "annotationdefaults": {
           "arrowcolor": "#2a3f5f",
           "arrowhead": 0,
           "arrowwidth": 1
          },
          "autotypenumbers": "strict",
          "coloraxis": {
           "colorbar": {
            "outlinewidth": 0,
            "ticks": ""
           }
          },
          "colorscale": {
           "diverging": [
            [
             0,
             "#8e0152"
            ],
            [
             0.1,
             "#c51b7d"
            ],
            [
             0.2,
             "#de77ae"
            ],
            [
             0.3,
             "#f1b6da"
            ],
            [
             0.4,
             "#fde0ef"
            ],
            [
             0.5,
             "#f7f7f7"
            ],
            [
             0.6,
             "#e6f5d0"
            ],
            [
             0.7,
             "#b8e186"
            ],
            [
             0.8,
             "#7fbc41"
            ],
            [
             0.9,
             "#4d9221"
            ],
            [
             1,
             "#276419"
            ]
           ],
           "sequential": [
            [
             0,
             "#0d0887"
            ],
            [
             0.1111111111111111,
             "#46039f"
            ],
            [
             0.2222222222222222,
             "#7201a8"
            ],
            [
             0.3333333333333333,
             "#9c179e"
            ],
            [
             0.4444444444444444,
             "#bd3786"
            ],
            [
             0.5555555555555556,
             "#d8576b"
            ],
            [
             0.6666666666666666,
             "#ed7953"
            ],
            [
             0.7777777777777778,
             "#fb9f3a"
            ],
            [
             0.8888888888888888,
             "#fdca26"
            ],
            [
             1,
             "#f0f921"
            ]
           ],
           "sequentialminus": [
            [
             0,
             "#0d0887"
            ],
            [
             0.1111111111111111,
             "#46039f"
            ],
            [
             0.2222222222222222,
             "#7201a8"
            ],
            [
             0.3333333333333333,
             "#9c179e"
            ],
            [
             0.4444444444444444,
             "#bd3786"
            ],
            [
             0.5555555555555556,
             "#d8576b"
            ],
            [
             0.6666666666666666,
             "#ed7953"
            ],
            [
             0.7777777777777778,
             "#fb9f3a"
            ],
            [
             0.8888888888888888,
             "#fdca26"
            ],
            [
             1,
             "#f0f921"
            ]
           ]
          },
          "colorway": [
           "#636efa",
           "#EF553B",
           "#00cc96",
           "#ab63fa",
           "#FFA15A",
           "#19d3f3",
           "#FF6692",
           "#B6E880",
           "#FF97FF",
           "#FECB52"
          ],
          "font": {
           "color": "#2a3f5f"
          },
          "geo": {
           "bgcolor": "white",
           "lakecolor": "white",
           "landcolor": "white",
           "showlakes": true,
           "showland": true,
           "subunitcolor": "#C8D4E3"
          },
          "hoverlabel": {
           "align": "left"
          },
          "hovermode": "closest",
          "mapbox": {
           "style": "light"
          },
          "paper_bgcolor": "white",
          "plot_bgcolor": "white",
          "polar": {
           "angularaxis": {
            "gridcolor": "#EBF0F8",
            "linecolor": "#EBF0F8",
            "ticks": ""
           },
           "bgcolor": "white",
           "radialaxis": {
            "gridcolor": "#EBF0F8",
            "linecolor": "#EBF0F8",
            "ticks": ""
           }
          },
          "scene": {
           "xaxis": {
            "backgroundcolor": "white",
            "gridcolor": "#DFE8F3",
            "gridwidth": 2,
            "linecolor": "#EBF0F8",
            "showbackground": true,
            "ticks": "",
            "zerolinecolor": "#EBF0F8"
           },
           "yaxis": {
            "backgroundcolor": "white",
            "gridcolor": "#DFE8F3",
            "gridwidth": 2,
            "linecolor": "#EBF0F8",
            "showbackground": true,
            "ticks": "",
            "zerolinecolor": "#EBF0F8"
           },
           "zaxis": {
            "backgroundcolor": "white",
            "gridcolor": "#DFE8F3",
            "gridwidth": 2,
            "linecolor": "#EBF0F8",
            "showbackground": true,
            "ticks": "",
            "zerolinecolor": "#EBF0F8"
           }
          },
          "shapedefaults": {
           "line": {
            "color": "#2a3f5f"
           }
          },
          "ternary": {
           "aaxis": {
            "gridcolor": "#DFE8F3",
            "linecolor": "#A2B1C6",
            "ticks": ""
           },
           "baxis": {
            "gridcolor": "#DFE8F3",
            "linecolor": "#A2B1C6",
            "ticks": ""
           },
           "bgcolor": "white",
           "caxis": {
            "gridcolor": "#DFE8F3",
            "linecolor": "#A2B1C6",
            "ticks": ""
           }
          },
          "title": {
           "x": 0.05
          },
          "xaxis": {
           "automargin": true,
           "gridcolor": "#EBF0F8",
           "linecolor": "#EBF0F8",
           "ticks": "",
           "title": {
            "standoff": 15
           },
           "zerolinecolor": "#EBF0F8",
           "zerolinewidth": 2
          },
          "yaxis": {
           "automargin": true,
           "gridcolor": "#EBF0F8",
           "linecolor": "#EBF0F8",
           "ticks": "",
           "title": {
            "standoff": 15
           },
           "zerolinecolor": "#EBF0F8",
           "zerolinewidth": 2
          }
         }
        },
        "title": {
         "font": {
          "color": "Black",
          "size": 22
         },
         "text": "Topic Word Scores",
         "x": 0.5,
         "xanchor": "center",
         "yanchor": "top"
        },
        "width": 1000,
        "xaxis": {
         "anchor": "y",
         "domain": [
          0,
          0.175
         ],
         "showgrid": true
        },
        "xaxis2": {
         "anchor": "y2",
         "domain": [
          0.275,
          0.45
         ],
         "showgrid": true
        },
        "xaxis3": {
         "anchor": "y3",
         "domain": [
          0.55,
          0.7250000000000001
         ],
         "showgrid": true
        },
        "xaxis4": {
         "anchor": "y4",
         "domain": [
          0.825,
          1
         ],
         "showgrid": true
        },
        "xaxis5": {
         "anchor": "y5",
         "domain": [
          0,
          0.175
         ],
         "showgrid": true
        },
        "xaxis6": {
         "anchor": "y6",
         "domain": [
          0.275,
          0.45
         ],
         "showgrid": true
        },
        "xaxis7": {
         "anchor": "y7",
         "domain": [
          0.55,
          0.7250000000000001
         ],
         "showgrid": true
        },
        "xaxis8": {
         "anchor": "y8",
         "domain": [
          0.825,
          1
         ],
         "showgrid": true
        },
        "yaxis": {
         "anchor": "x",
         "domain": [
          0.6000000000000001,
          1
         ],
         "showgrid": true
        },
        "yaxis2": {
         "anchor": "x2",
         "domain": [
          0.6000000000000001,
          1
         ],
         "showgrid": true
        },
        "yaxis3": {
         "anchor": "x3",
         "domain": [
          0.6000000000000001,
          1
         ],
         "showgrid": true
        },
        "yaxis4": {
         "anchor": "x4",
         "domain": [
          0.6000000000000001,
          1
         ],
         "showgrid": true
        },
        "yaxis5": {
         "anchor": "x5",
         "domain": [
          0,
          0.4
         ],
         "showgrid": true
        },
        "yaxis6": {
         "anchor": "x6",
         "domain": [
          0,
          0.4
         ],
         "showgrid": true
        },
        "yaxis7": {
         "anchor": "x7",
         "domain": [
          0,
          0.4
         ],
         "showgrid": true
        },
        "yaxis8": {
         "anchor": "x8",
         "domain": [
          0,
          0.4
         ],
         "showgrid": true
        }
       }
      }
     },
     "metadata": {},
     "output_type": "display_data"
    }
   ],
   "source": [
    "vectorizer_model=CountVectorizer(stop_words=list(sw_2),ngram_range=(1,2),)\n",
    "\n",
    "model= BERTopic(\n",
    "    vectorizer_model=vectorizer_model,\n",
    "    language='english',\n",
    "    calculate_probabilities=True,\n",
    "    verbose=True\n",
    ")\n",
    "\n",
    "topics, probs = model.fit_transform(texte)\n",
    "\n",
    "model.visualize_barchart()"
   ]
  },
  {
   "cell_type": "raw",
   "metadata": {},
   "source": []
  }
 ],
 "metadata": {
  "kernelspec": {
   "display_name": "python_s2",
   "language": "python",
   "name": "python3"
  },
  "language_info": {
   "codemirror_mode": {
    "name": "ipython",
    "version": 3
   },
   "file_extension": ".py",
   "mimetype": "text/x-python",
   "name": "python",
   "nbconvert_exporter": "python",
   "pygments_lexer": "ipython3",
   "version": "3.8.18"
  }
 },
 "nbformat": 4,
 "nbformat_minor": 2
}
