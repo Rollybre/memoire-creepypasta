{
 "cells": [
  {
   "cell_type": "code",
   "execution_count": 1,
   "metadata": {},
   "outputs": [
    {
     "name": "stdout",
     "output_type": "stream",
     "text": [
      "3\n",
      "12\n",
      "53\n",
      "254\n",
      "1255\n",
      "6256\n",
      "31257\n",
      "156258\n",
      "781259\n",
      "3906260\n"
     ]
    },
    {
     "data": {
      "text/plain": [
       "10"
      ]
     },
     "execution_count": 1,
     "metadata": {},
     "output_type": "execute_result"
    }
   ],
   "source": [
    "def suite() : \n",
    "    u=3\n",
    "    n=0\n",
    "    while u<=10**7 :\n",
    "        print(u)\n",
    "        u=u*5 - 4*n - 3\n",
    "        n=n+1\n",
    "    return n\n",
    "\n",
    "\n"
   ]
  },
  {
   "cell_type": "code",
   "execution_count": 3,
   "metadata": {},
   "outputs": [
    {
     "data": {
      "text/plain": [
       "2025.0"
      ]
     },
     "execution_count": 3,
     "metadata": {},
     "output_type": "execute_result"
    }
   ],
   "source": [
    "round(2024.54,0)"
   ]
  },
  {
   "cell_type": "code",
   "execution_count": null,
   "metadata": {},
   "outputs": [],
   "source": []
  },
  {
   "cell_type": "code",
   "execution_count": 7,
   "metadata": {},
   "outputs": [
    {
     "name": "stdout",
     "output_type": "stream",
     "text": [
      "9999\n",
      "9990\n",
      "9965\n",
      "9916\n",
      "9835\n",
      "9714\n",
      "9545\n",
      "9320\n",
      "9031\n",
      "8670\n",
      "8229\n",
      "7700\n",
      "7075\n",
      "6346\n",
      "5505\n",
      "4544\n",
      "3455\n",
      "2230\n",
      "861\n",
      "19\n"
     ]
    }
   ],
   "source": [
    "cube=10000\n",
    "etage=0\n",
    "cote=1\n",
    "while cube >= cote**2:\n",
    "    etage+=1\n",
    "    cube-=cote**2\n",
    "    cote+=2\n",
    "    print(cube)\n",
    "print(etage)"
   ]
  },
  {
   "cell_type": "code",
   "execution_count": 9,
   "metadata": {},
   "outputs": [
    {
     "data": {
      "text/plain": [
       "720.594024"
      ]
     },
     "execution_count": 9,
     "metadata": {},
     "output_type": "execute_result"
    }
   ],
   "source": [
    "def masse_totale(n):\n",
    "    u=150\n",
    "    T=0\n",
    "    for i in range(n+1):\n",
    "        T=T+u\n",
    "        u=0.98*u    \n",
    "    return T\n",
    "masse_totale(4)\n",
    "## a. La fonction renvoie la masse totale de CO2 émis en n année par l'entreprise\n",
    "## c. (calcul de limites) la masse totale rejetée par l'entreprise sur le long terme est de 7500 tonnes.\n"
   ]
  },
  {
   "cell_type": "code",
   "execution_count": 16,
   "metadata": {},
   "outputs": [
    {
     "data": {
      "text/plain": [
       "0.25"
      ]
     },
     "execution_count": 16,
     "metadata": {},
     "output_type": "execute_result"
    }
   ],
   "source": []
  },
  {
   "cell_type": "markdown",
   "metadata": {},
   "source": []
  },
  {
   "cell_type": "code",
   "execution_count": 10,
   "metadata": {},
   "outputs": [],
   "source": [
    "def liste(k):\n",
    "    L=[]\n",
    "    u=1\n",
    "    for i in range(0,k+1):\n",
    "        L.append(u)\n",
    "        u=u/(1+u)\n",
    "    return(L)\n"
   ]
  },
  {
   "cell_type": "code",
   "execution_count": 11,
   "metadata": {},
   "outputs": [
    {
     "data": {
      "text/plain": [
       "[1, 0.5, 0.3333333333333333, 0.25]"
      ]
     },
     "execution_count": 11,
     "metadata": {},
     "output_type": "execute_result"
    }
   ],
   "source": [
    "liste(3)"
   ]
  },
  {
   "cell_type": "code",
   "execution_count": null,
   "metadata": {},
   "outputs": [],
   "source": []
  }
 ],
 "metadata": {
  "kernelspec": {
   "display_name": "topicmodelling",
   "language": "python",
   "name": "python3"
  },
  "language_info": {
   "codemirror_mode": {
    "name": "ipython",
    "version": 3
   },
   "file_extension": ".py",
   "mimetype": "text/x-python",
   "name": "python",
   "nbconvert_exporter": "python",
   "pygments_lexer": "ipython3",
   "version": "3.8.18"
  }
 },
 "nbformat": 4,
 "nbformat_minor": 2
}
